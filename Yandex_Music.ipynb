{
 "cells": [
  {
   "cell_type": "markdown",
   "metadata": {},
   "source": [
    "<div style=\"border:solid green 3px; padding: 20px\">\n",
    "\n",
    "<b>Привет, Михаил! :)</b>\n",
    "\n",
    "Меня зовут Сороколетов Илья и я буду проверять твой проект. \n",
    "\n",
    "Предлагаю общаться на «**ты**», но если тебе будет комфортнее общаться на «**вы**», то сообщи об этом в комментариях)\n",
    "\n",
    "\n",
    "Для твоего удобства, я буду выделять свои комментарии следующим образом:\n",
    "\n",
    "<div class=\"alert alert-danger\">\n",
    "<b>❌ Комментарий ревьюера:</b> Самые важные замечания. Они указывают на ключевые моменты, которые влияют на конечный результат проекта. </div>\n",
    "\n",
    "<div class=\"alert alert-warning\">\n",
    "<b>⚠️ Комментарий ревьюера:</b> Советы или замечания, которые помогут сделать твою работу лучше, но необязательны к выполнению.\n",
    "\n",
    "</div>\n",
    "\n",
    "<div class=\"alert alert-success\">\n",
    "<b>✔️ Комментарий ревьюера:</b> Так я выделяю все остальные комментарии.</div>\n",
    "\n",
    "Давай работать над проектом в диалоге: если ты что-то меняешь в проекте по моим рекомендациям — пиши об этом. Выбери для своих комментариев какой-то заметный цвет, так мне будет легче отследить изменения, например вот так:\n",
    "<div class=\"alert alert-info\">\n",
    "<b>Комментарий студента:</b>\n",
    "<br>\n",
    "</div>\n",
    "\n",
    "Пожалуйста, не перемещай, не изменяй и не удаляй мои комментарии. Если ты оставляешь свои комментарии, то делай это под моими, чтобы сообщения были расположены в хронологическом порядке. Всё это поможет выполнить повторную проверку твоего проекта оперативнее. \n",
    "\n",
    "Обязательно задавай вопросы если они возникнут, а я перехожу к проверке)\n",
    "\n",
    "P.S. На всякий случай, я оставлю пустой шаблон для твоих комментариев в ячейке ниже. Кликни на него два раза, скопируй код и вставляй его в пустую ячейку там, где ты хочешь оставить комментарий. Не забудь только перед этим сменить тип ячейки на Markdown. Как это сделать можно посмотреть на этом видео\n",
    "\n",
    "    https://youtu.be/s0q2GpcYxo4?t=685\n",
    "\n",
    "Также, перед отправкой работы я рекомендую нажимать Kernel -> Restart & Run All. Это перезапустит ядро и по очереди выполнит все ячейки. Так ты сможешь проверить, что всё работает корректно. Кнопка Kernel находится в панели сверху\n",
    "\n"
   ]
  },
  {
   "cell_type": "markdown",
   "metadata": {},
   "source": [
    "<div class=\"alert alert-info\">\n",
    "<b>Комментарий студента:</b>\n",
    "<br>Привет, Илья! :)\n",
    "    Сейчас глянем)\n",
    "</div>"
   ]
  },
  {
   "cell_type": "markdown",
   "metadata": {},
   "source": [
    "<div class=\"alert alert-success\">\n",
    "<b>✔️ Комментарий ревьюера v2:</b> \n",
    "<br>И снова привет!\n",
    "</div>"
   ]
  },
  {
   "cell_type": "markdown",
   "metadata": {
    "id": "E0vqbgi9ay0H"
   },
   "source": [
    "# Яндекс.Музыка"
   ]
  },
  {
   "cell_type": "markdown",
   "metadata": {
    "id": "VUC88oWjTJw2"
   },
   "source": [
    "Сравнение Москвы и Петербурга окружено мифами. Например:\n",
    " * Москва — мегаполис, подчинённый жёсткому ритму рабочей недели;\n",
    " * Петербург — культурная столица, со своими вкусами.\n",
    "\n",
    "На данных Яндекс.Музыки вы сравните поведение пользователей двух столиц.\n",
    "\n",
    "**Цель исследования** — проверьте три гипотезы:\n",
    "1. Активность пользователей зависит от дня недели. Причём в Москве и Петербурге это проявляется по-разному.\n",
    "2. В понедельник утром в Москве преобладают одни жанры, а в Петербурге — другие. Так же и вечером пятницы преобладают разные жанры — в зависимости от города. \n",
    "3. Москва и Петербург предпочитают разные жанры музыки. В Москве чаще слушают поп-музыку, в Петербурге — русский рэп.\n",
    "\n",
    "**Ход исследования**\n",
    "\n",
    "Данные о поведении пользователей вы получите из файла `yandex_music_project.csv`. О качестве данных ничего не известно. Поэтому перед проверкой гипотез понадобится обзор данных. \n",
    "\n",
    "Вы проверите данные на ошибки и оцените их влияние на исследование. Затем, на этапе предобработки вы поищете возможность исправить самые критичные ошибки данных.\n",
    " \n",
    "Таким образом, исследование пройдёт в три этапа:\n",
    " 1. Обзор данных.\n",
    " 2. Предобработка данных.\n",
    " 3. Проверка гипотез.\n",
    "\n"
   ]
  },
  {
   "cell_type": "markdown",
   "metadata": {
    "id": "Ml1hmfXC_Zcs"
   },
   "source": [
    "## Обзор данных\n",
    "\n",
    "Составьте первое представление о данных Яндекс.Музыки.\n",
    "\n",
    "\n"
   ]
  },
  {
   "cell_type": "markdown",
   "metadata": {
    "id": "57eAOGIz_Zcs"
   },
   "source": [
    "Основной инструмент аналитика — `pandas`. Импортируйте эту библиотеку."
   ]
  },
  {
   "cell_type": "code",
   "execution_count": 1,
   "metadata": {
    "id": "AXN7PHPN_Zcs"
   },
   "outputs": [],
   "source": [
    "import pandas as pd # импорт библиотеки pandas"
   ]
  },
  {
   "cell_type": "markdown",
   "metadata": {},
   "source": [
    "<div class=\"alert alert-success\">\n",
    "<b>✔️ Комментарий ревьюера:</b> \n",
    "<br>Очень здорово, что ты используешь сокращение pd для Pandas, это общепринятое сокращение для этой библиотеки для удобной дальнейшей работы.\n",
    "</div>\n",
    "\n"
   ]
  },
  {
   "cell_type": "markdown",
   "metadata": {
    "id": "SG23P8tt_Zcs"
   },
   "source": [
    "Прочитайте файл `yandex_music_project.csv` из папки `/datasets` и сохраните его в переменной `df`:"
   ]
  },
  {
   "cell_type": "code",
   "execution_count": 2,
   "metadata": {
    "id": "fFVu7vqh_Zct"
   },
   "outputs": [],
   "source": [
    "df = pd.read_csv('/datasets/yandex_music_project.csv') # чтение файла с данными и сохранение в df"
   ]
  },
  {
   "cell_type": "markdown",
   "metadata": {
    "id": "rDoOMd3uTqnZ"
   },
   "source": [
    "Выведите на экран первые десять строк таблицы:"
   ]
  },
  {
   "cell_type": "code",
   "execution_count": 3,
   "metadata": {
    "id": "oWTVX3gW_Zct",
    "scrolled": true
   },
   "outputs": [
    {
     "data": {
      "text/html": [
       "<div>\n",
       "<style scoped>\n",
       "    .dataframe tbody tr th:only-of-type {\n",
       "        vertical-align: middle;\n",
       "    }\n",
       "\n",
       "    .dataframe tbody tr th {\n",
       "        vertical-align: top;\n",
       "    }\n",
       "\n",
       "    .dataframe thead th {\n",
       "        text-align: right;\n",
       "    }\n",
       "</style>\n",
       "<table border=\"1\" class=\"dataframe\">\n",
       "  <thead>\n",
       "    <tr style=\"text-align: right;\">\n",
       "      <th></th>\n",
       "      <th>userID</th>\n",
       "      <th>Track</th>\n",
       "      <th>artist</th>\n",
       "      <th>genre</th>\n",
       "      <th>City</th>\n",
       "      <th>time</th>\n",
       "      <th>Day</th>\n",
       "    </tr>\n",
       "  </thead>\n",
       "  <tbody>\n",
       "    <tr>\n",
       "      <td>0</td>\n",
       "      <td>FFB692EC</td>\n",
       "      <td>Kamigata To Boots</td>\n",
       "      <td>The Mass Missile</td>\n",
       "      <td>rock</td>\n",
       "      <td>Saint-Petersburg</td>\n",
       "      <td>20:28:33</td>\n",
       "      <td>Wednesday</td>\n",
       "    </tr>\n",
       "    <tr>\n",
       "      <td>1</td>\n",
       "      <td>55204538</td>\n",
       "      <td>Delayed Because of Accident</td>\n",
       "      <td>Andreas Rönnberg</td>\n",
       "      <td>rock</td>\n",
       "      <td>Moscow</td>\n",
       "      <td>14:07:09</td>\n",
       "      <td>Friday</td>\n",
       "    </tr>\n",
       "    <tr>\n",
       "      <td>2</td>\n",
       "      <td>20EC38</td>\n",
       "      <td>Funiculì funiculà</td>\n",
       "      <td>Mario Lanza</td>\n",
       "      <td>pop</td>\n",
       "      <td>Saint-Petersburg</td>\n",
       "      <td>20:58:07</td>\n",
       "      <td>Wednesday</td>\n",
       "    </tr>\n",
       "    <tr>\n",
       "      <td>3</td>\n",
       "      <td>A3DD03C9</td>\n",
       "      <td>Dragons in the Sunset</td>\n",
       "      <td>Fire + Ice</td>\n",
       "      <td>folk</td>\n",
       "      <td>Saint-Petersburg</td>\n",
       "      <td>08:37:09</td>\n",
       "      <td>Monday</td>\n",
       "    </tr>\n",
       "    <tr>\n",
       "      <td>4</td>\n",
       "      <td>E2DC1FAE</td>\n",
       "      <td>Soul People</td>\n",
       "      <td>Space Echo</td>\n",
       "      <td>dance</td>\n",
       "      <td>Moscow</td>\n",
       "      <td>08:34:34</td>\n",
       "      <td>Monday</td>\n",
       "    </tr>\n",
       "    <tr>\n",
       "      <td>5</td>\n",
       "      <td>842029A1</td>\n",
       "      <td>Преданная</td>\n",
       "      <td>IMPERVTOR</td>\n",
       "      <td>rusrap</td>\n",
       "      <td>Saint-Petersburg</td>\n",
       "      <td>13:09:41</td>\n",
       "      <td>Friday</td>\n",
       "    </tr>\n",
       "    <tr>\n",
       "      <td>6</td>\n",
       "      <td>4CB90AA5</td>\n",
       "      <td>True</td>\n",
       "      <td>Roman Messer</td>\n",
       "      <td>dance</td>\n",
       "      <td>Moscow</td>\n",
       "      <td>13:00:07</td>\n",
       "      <td>Wednesday</td>\n",
       "    </tr>\n",
       "    <tr>\n",
       "      <td>7</td>\n",
       "      <td>F03E1C1F</td>\n",
       "      <td>Feeling This Way</td>\n",
       "      <td>Polina Griffith</td>\n",
       "      <td>dance</td>\n",
       "      <td>Moscow</td>\n",
       "      <td>20:47:49</td>\n",
       "      <td>Wednesday</td>\n",
       "    </tr>\n",
       "    <tr>\n",
       "      <td>8</td>\n",
       "      <td>8FA1D3BE</td>\n",
       "      <td>И вновь продолжается бой</td>\n",
       "      <td>NaN</td>\n",
       "      <td>ruspop</td>\n",
       "      <td>Moscow</td>\n",
       "      <td>09:17:40</td>\n",
       "      <td>Friday</td>\n",
       "    </tr>\n",
       "    <tr>\n",
       "      <td>9</td>\n",
       "      <td>E772D5C0</td>\n",
       "      <td>Pessimist</td>\n",
       "      <td>NaN</td>\n",
       "      <td>dance</td>\n",
       "      <td>Saint-Petersburg</td>\n",
       "      <td>21:20:49</td>\n",
       "      <td>Wednesday</td>\n",
       "    </tr>\n",
       "  </tbody>\n",
       "</table>\n",
       "</div>"
      ],
      "text/plain": [
       "     userID                        Track            artist   genre  \\\n",
       "0  FFB692EC            Kamigata To Boots  The Mass Missile    rock   \n",
       "1  55204538  Delayed Because of Accident  Andreas Rönnberg    rock   \n",
       "2    20EC38            Funiculì funiculà       Mario Lanza     pop   \n",
       "3  A3DD03C9        Dragons in the Sunset        Fire + Ice    folk   \n",
       "4  E2DC1FAE                  Soul People        Space Echo   dance   \n",
       "5  842029A1                    Преданная         IMPERVTOR  rusrap   \n",
       "6  4CB90AA5                         True      Roman Messer   dance   \n",
       "7  F03E1C1F             Feeling This Way   Polina Griffith   dance   \n",
       "8  8FA1D3BE     И вновь продолжается бой               NaN  ruspop   \n",
       "9  E772D5C0                    Pessimist               NaN   dance   \n",
       "\n",
       "             City        time        Day  \n",
       "0  Saint-Petersburg  20:28:33  Wednesday  \n",
       "1            Moscow  14:07:09     Friday  \n",
       "2  Saint-Petersburg  20:58:07  Wednesday  \n",
       "3  Saint-Petersburg  08:37:09     Monday  \n",
       "4            Moscow  08:34:34     Monday  \n",
       "5  Saint-Petersburg  13:09:41     Friday  \n",
       "6            Moscow  13:00:07  Wednesday  \n",
       "7            Moscow  20:47:49  Wednesday  \n",
       "8            Moscow  09:17:40     Friday  \n",
       "9  Saint-Petersburg  21:20:49  Wednesday  "
      ]
     },
     "metadata": {},
     "output_type": "display_data"
    }
   ],
   "source": [
    "display(df.head(10)) # получение первых 10 строк таблицы df"
   ]
  },
  {
   "cell_type": "markdown",
   "metadata": {},
   "source": [
    "<div class=\"alert alert-warning\">\n",
    "<b>⚠️ Комментарий ревьюера:</b> \n",
    "<br>Обрати внимание, что здесь использование функции display() ни на что не влияет, а это значит, что её можно не применять\n",
    "</div>"
   ]
  },
  {
   "cell_type": "markdown",
   "metadata": {},
   "source": [
    "<div class=\"alert alert-info\">\n",
    "<b>Комментарий студента:</b>\n",
    "<br>Тут display() мне понравился больше, чем print(), как то приятнее глазу.\n",
    "</div>"
   ]
  },
  {
   "cell_type": "markdown",
   "metadata": {},
   "source": [
    "<div class=\"alert alert-success\">\n",
    "<b>✔️ Комментарий ревьюера v2:</b>\n",
    "<br>Тут можно обойтись совсем без функций. Давай я покажу тебе различия на примерах ниже)\n",
    "<br>    - 1 и 2 случай - разницы нет\n",
    "<br>    - 3 случай - если мы используем функцию print(), то вывод таблицы выглядит менее симпатично\n",
    "<br>    - 4 случай - если мы захотим вывести таблицу первым способом, но после неё будет вывод ещё какой-то строки, то вывод не сработает\n",
    "<br>    - 5 случай - вот тут нам как раз и нужно функция display\n",
    "</div>\n"
   ]
  },
  {
   "cell_type": "code",
   "execution_count": 4,
   "metadata": {},
   "outputs": [
    {
     "data": {
      "text/html": [
       "<div>\n",
       "<style scoped>\n",
       "    .dataframe tbody tr th:only-of-type {\n",
       "        vertical-align: middle;\n",
       "    }\n",
       "\n",
       "    .dataframe tbody tr th {\n",
       "        vertical-align: top;\n",
       "    }\n",
       "\n",
       "    .dataframe thead th {\n",
       "        text-align: right;\n",
       "    }\n",
       "</style>\n",
       "<table border=\"1\" class=\"dataframe\">\n",
       "  <thead>\n",
       "    <tr style=\"text-align: right;\">\n",
       "      <th></th>\n",
       "      <th>userID</th>\n",
       "      <th>Track</th>\n",
       "      <th>artist</th>\n",
       "      <th>genre</th>\n",
       "      <th>City</th>\n",
       "      <th>time</th>\n",
       "      <th>Day</th>\n",
       "    </tr>\n",
       "  </thead>\n",
       "  <tbody>\n",
       "    <tr>\n",
       "      <td>0</td>\n",
       "      <td>FFB692EC</td>\n",
       "      <td>Kamigata To Boots</td>\n",
       "      <td>The Mass Missile</td>\n",
       "      <td>rock</td>\n",
       "      <td>Saint-Petersburg</td>\n",
       "      <td>20:28:33</td>\n",
       "      <td>Wednesday</td>\n",
       "    </tr>\n",
       "    <tr>\n",
       "      <td>1</td>\n",
       "      <td>55204538</td>\n",
       "      <td>Delayed Because of Accident</td>\n",
       "      <td>Andreas Rönnberg</td>\n",
       "      <td>rock</td>\n",
       "      <td>Moscow</td>\n",
       "      <td>14:07:09</td>\n",
       "      <td>Friday</td>\n",
       "    </tr>\n",
       "    <tr>\n",
       "      <td>2</td>\n",
       "      <td>20EC38</td>\n",
       "      <td>Funiculì funiculà</td>\n",
       "      <td>Mario Lanza</td>\n",
       "      <td>pop</td>\n",
       "      <td>Saint-Petersburg</td>\n",
       "      <td>20:58:07</td>\n",
       "      <td>Wednesday</td>\n",
       "    </tr>\n",
       "  </tbody>\n",
       "</table>\n",
       "</div>"
      ],
      "text/plain": [
       "     userID                        Track            artist genre  \\\n",
       "0  FFB692EC            Kamigata To Boots  The Mass Missile  rock   \n",
       "1  55204538  Delayed Because of Accident  Andreas Rönnberg  rock   \n",
       "2    20EC38            Funiculì funiculà       Mario Lanza   pop   \n",
       "\n",
       "             City        time        Day  \n",
       "0  Saint-Petersburg  20:28:33  Wednesday  \n",
       "1            Moscow  14:07:09     Friday  \n",
       "2  Saint-Petersburg  20:58:07  Wednesday  "
      ]
     },
     "execution_count": 4,
     "metadata": {},
     "output_type": "execute_result"
    }
   ],
   "source": [
    "#Код ревьюера\n",
    "#1 случай\n",
    "df.head(3)"
   ]
  },
  {
   "cell_type": "code",
   "execution_count": 5,
   "metadata": {},
   "outputs": [
    {
     "data": {
      "text/html": [
       "<div>\n",
       "<style scoped>\n",
       "    .dataframe tbody tr th:only-of-type {\n",
       "        vertical-align: middle;\n",
       "    }\n",
       "\n",
       "    .dataframe tbody tr th {\n",
       "        vertical-align: top;\n",
       "    }\n",
       "\n",
       "    .dataframe thead th {\n",
       "        text-align: right;\n",
       "    }\n",
       "</style>\n",
       "<table border=\"1\" class=\"dataframe\">\n",
       "  <thead>\n",
       "    <tr style=\"text-align: right;\">\n",
       "      <th></th>\n",
       "      <th>userID</th>\n",
       "      <th>Track</th>\n",
       "      <th>artist</th>\n",
       "      <th>genre</th>\n",
       "      <th>City</th>\n",
       "      <th>time</th>\n",
       "      <th>Day</th>\n",
       "    </tr>\n",
       "  </thead>\n",
       "  <tbody>\n",
       "    <tr>\n",
       "      <td>0</td>\n",
       "      <td>FFB692EC</td>\n",
       "      <td>Kamigata To Boots</td>\n",
       "      <td>The Mass Missile</td>\n",
       "      <td>rock</td>\n",
       "      <td>Saint-Petersburg</td>\n",
       "      <td>20:28:33</td>\n",
       "      <td>Wednesday</td>\n",
       "    </tr>\n",
       "    <tr>\n",
       "      <td>1</td>\n",
       "      <td>55204538</td>\n",
       "      <td>Delayed Because of Accident</td>\n",
       "      <td>Andreas Rönnberg</td>\n",
       "      <td>rock</td>\n",
       "      <td>Moscow</td>\n",
       "      <td>14:07:09</td>\n",
       "      <td>Friday</td>\n",
       "    </tr>\n",
       "    <tr>\n",
       "      <td>2</td>\n",
       "      <td>20EC38</td>\n",
       "      <td>Funiculì funiculà</td>\n",
       "      <td>Mario Lanza</td>\n",
       "      <td>pop</td>\n",
       "      <td>Saint-Petersburg</td>\n",
       "      <td>20:58:07</td>\n",
       "      <td>Wednesday</td>\n",
       "    </tr>\n",
       "  </tbody>\n",
       "</table>\n",
       "</div>"
      ],
      "text/plain": [
       "     userID                        Track            artist genre  \\\n",
       "0  FFB692EC            Kamigata To Boots  The Mass Missile  rock   \n",
       "1  55204538  Delayed Because of Accident  Andreas Rönnberg  rock   \n",
       "2    20EC38            Funiculì funiculà       Mario Lanza   pop   \n",
       "\n",
       "             City        time        Day  \n",
       "0  Saint-Petersburg  20:28:33  Wednesday  \n",
       "1            Moscow  14:07:09     Friday  \n",
       "2  Saint-Petersburg  20:58:07  Wednesday  "
      ]
     },
     "metadata": {},
     "output_type": "display_data"
    }
   ],
   "source": [
    "#Код ревьюера\n",
    "#2 случай\n",
    "display(df.head(3))"
   ]
  },
  {
   "cell_type": "code",
   "execution_count": 6,
   "metadata": {},
   "outputs": [
    {
     "name": "stdout",
     "output_type": "stream",
     "text": [
      "     userID                        Track            artist genre  \\\n",
      "0  FFB692EC            Kamigata To Boots  The Mass Missile  rock   \n",
      "1  55204538  Delayed Because of Accident  Andreas Rönnberg  rock   \n",
      "2    20EC38            Funiculì funiculà       Mario Lanza   pop   \n",
      "\n",
      "             City        time        Day  \n",
      "0  Saint-Petersburg  20:28:33  Wednesday  \n",
      "1            Moscow  14:07:09     Friday  \n",
      "2  Saint-Petersburg  20:58:07  Wednesday  \n"
     ]
    }
   ],
   "source": [
    "#Код ревьюера\n",
    "#3 случай\n",
    "print(df.head(3))"
   ]
  },
  {
   "cell_type": "code",
   "execution_count": 7,
   "metadata": {},
   "outputs": [
    {
     "name": "stdout",
     "output_type": "stream",
     "text": [
      "Hello\n"
     ]
    }
   ],
   "source": [
    "#Код ревьюера\n",
    "#4 случай\n",
    "df.head(3)\n",
    "print('Hello')"
   ]
  },
  {
   "cell_type": "code",
   "execution_count": 8,
   "metadata": {},
   "outputs": [
    {
     "data": {
      "text/html": [
       "<div>\n",
       "<style scoped>\n",
       "    .dataframe tbody tr th:only-of-type {\n",
       "        vertical-align: middle;\n",
       "    }\n",
       "\n",
       "    .dataframe tbody tr th {\n",
       "        vertical-align: top;\n",
       "    }\n",
       "\n",
       "    .dataframe thead th {\n",
       "        text-align: right;\n",
       "    }\n",
       "</style>\n",
       "<table border=\"1\" class=\"dataframe\">\n",
       "  <thead>\n",
       "    <tr style=\"text-align: right;\">\n",
       "      <th></th>\n",
       "      <th>userID</th>\n",
       "      <th>Track</th>\n",
       "      <th>artist</th>\n",
       "      <th>genre</th>\n",
       "      <th>City</th>\n",
       "      <th>time</th>\n",
       "      <th>Day</th>\n",
       "    </tr>\n",
       "  </thead>\n",
       "  <tbody>\n",
       "    <tr>\n",
       "      <td>0</td>\n",
       "      <td>FFB692EC</td>\n",
       "      <td>Kamigata To Boots</td>\n",
       "      <td>The Mass Missile</td>\n",
       "      <td>rock</td>\n",
       "      <td>Saint-Petersburg</td>\n",
       "      <td>20:28:33</td>\n",
       "      <td>Wednesday</td>\n",
       "    </tr>\n",
       "    <tr>\n",
       "      <td>1</td>\n",
       "      <td>55204538</td>\n",
       "      <td>Delayed Because of Accident</td>\n",
       "      <td>Andreas Rönnberg</td>\n",
       "      <td>rock</td>\n",
       "      <td>Moscow</td>\n",
       "      <td>14:07:09</td>\n",
       "      <td>Friday</td>\n",
       "    </tr>\n",
       "    <tr>\n",
       "      <td>2</td>\n",
       "      <td>20EC38</td>\n",
       "      <td>Funiculì funiculà</td>\n",
       "      <td>Mario Lanza</td>\n",
       "      <td>pop</td>\n",
       "      <td>Saint-Petersburg</td>\n",
       "      <td>20:58:07</td>\n",
       "      <td>Wednesday</td>\n",
       "    </tr>\n",
       "  </tbody>\n",
       "</table>\n",
       "</div>"
      ],
      "text/plain": [
       "     userID                        Track            artist genre  \\\n",
       "0  FFB692EC            Kamigata To Boots  The Mass Missile  rock   \n",
       "1  55204538  Delayed Because of Accident  Andreas Rönnberg  rock   \n",
       "2    20EC38            Funiculì funiculà       Mario Lanza   pop   \n",
       "\n",
       "             City        time        Day  \n",
       "0  Saint-Petersburg  20:28:33  Wednesday  \n",
       "1            Moscow  14:07:09     Friday  \n",
       "2  Saint-Petersburg  20:58:07  Wednesday  "
      ]
     },
     "metadata": {},
     "output_type": "display_data"
    },
    {
     "name": "stdout",
     "output_type": "stream",
     "text": [
      "Hello\n"
     ]
    }
   ],
   "source": [
    "#Код ревьюера\n",
    "#5 случай\n",
    "display(df.head(3))\n",
    "print('Hello')"
   ]
  },
  {
   "cell_type": "markdown",
   "metadata": {
    "id": "EO73Kwic_Zct"
   },
   "source": [
    "Одной командой получить общую информацию о таблице:"
   ]
  },
  {
   "cell_type": "code",
   "execution_count": 9,
   "metadata": {
    "id": "DSf2kIb-_Zct"
   },
   "outputs": [
    {
     "name": "stdout",
     "output_type": "stream",
     "text": [
      "<class 'pandas.core.frame.DataFrame'>\n",
      "RangeIndex: 65079 entries, 0 to 65078\n",
      "Data columns (total 7 columns):\n",
      "  userID    65079 non-null object\n",
      "Track       63848 non-null object\n",
      "artist      57876 non-null object\n",
      "genre       63881 non-null object\n",
      "  City      65079 non-null object\n",
      "time        65079 non-null object\n",
      "Day         65079 non-null object\n",
      "dtypes: object(7)\n",
      "memory usage: 3.5+ MB\n"
     ]
    },
    {
     "data": {
      "text/plain": [
       "None"
      ]
     },
     "metadata": {},
     "output_type": "display_data"
    }
   ],
   "source": [
    "display(df.info()) # получение общей информации о данных в таблице df"
   ]
  },
  {
   "cell_type": "markdown",
   "metadata": {
    "id": "TaQ2Iwbr_Zct"
   },
   "source": [
    "Итак, в таблице семь столбцов. Тип данных во всех столбцах — `object`.\n",
    "\n",
    "Согласно документации к данным:\n",
    "* `userID` — идентификатор пользователя;\n",
    "* `Track` — название трека;  \n",
    "* `artist` — имя исполнителя;\n",
    "* `genre` — название жанра;\n",
    "* `City` — город пользователя;\n",
    "* `time` — время начала прослушивания;\n",
    "* `Day` — день недели.\n",
    "\n",
    "В названиях колонок видны три нарушения стиля:\n",
    "1. Строчные буквы сочетаются с прописными.\n",
    "2. Встречаются пробелы.\n",
    "3. Отсутствуюет нижний слеш, нужно использовать «змеиный_регистр».\n",
    "\n",
    "\n",
    "\n",
    "Количество значений в столбцах различается. Значит, в данных есть пропущенные значения.\n"
   ]
  },
  {
   "cell_type": "markdown",
   "metadata": {},
   "source": [
    "<div class=\"alert alert-success\">\n",
    "<b>✔️ Комментарий ревьюера:</b> \n",
    "<br>И это правильный ответ! Отличная работа!\n",
    "</div>"
   ]
  },
  {
   "cell_type": "markdown",
   "metadata": {
    "id": "MCB6-dXG_Zct"
   },
   "source": [
    "**Выводы**\n",
    "\n",
    "В каждой строке таблицы — данные о прослушанном треке. Часть колонок описывает саму композицию: название, исполнителя и жанр. Остальные данные рассказывают о пользователе: из какого он города, когда он слушал музыку. \n",
    "\n",
    "Предварительно можно утверждать, что, данных достаточно для проверки гипотез. Но встречаются пропуски в данных, а в названиях колонок — расхождения с хорошим стилем.\n",
    "\n",
    "Чтобы двигаться дальше, нужно устранить проблемы в данных."
   ]
  },
  {
   "cell_type": "markdown",
   "metadata": {
    "id": "SjYF6Ub9_Zct"
   },
   "source": [
    "## Предобработка данных\n",
    "Исправьте стиль в заголовках столбцов, исключите пропуски. Затем проверьте данные на дубликаты."
   ]
  },
  {
   "cell_type": "markdown",
   "metadata": {
    "id": "dIaKXr29_Zct"
   },
   "source": [
    "### Стиль заголовков\n",
    "Выведите на экран названия столбцов:"
   ]
  },
  {
   "cell_type": "code",
   "execution_count": 10,
   "metadata": {
    "id": "oKOTdF_Q_Zct"
   },
   "outputs": [
    {
     "name": "stdout",
     "output_type": "stream",
     "text": [
      "Index(['  userID', 'Track', 'artist', 'genre', '  City  ', 'time', 'Day'], dtype='object')\n"
     ]
    }
   ],
   "source": [
    "print(df.columns) # перечень названий столбцов таблицы df"
   ]
  },
  {
   "cell_type": "markdown",
   "metadata": {},
   "source": [
    "<div class=\"alert alert-warning\">\n",
    "<b>⚠️ Комментарий ревьюера:</b> \n",
    "<br>Для вывода столбцов на экран здесь не нужно использовать функцию display(): результат и так будет выведен, так как это последняя строчка ячейки.\n",
    "</div>"
   ]
  },
  {
   "cell_type": "markdown",
   "metadata": {},
   "source": [
    "<div class=\"alert alert-info\">\n",
    "<b>Комментарий студента:</b>\n",
    "<br>Изменил на print()\n",
    "</div>"
   ]
  },
  {
   "cell_type": "markdown",
   "metadata": {
    "id": "zj5534cv_Zct"
   },
   "source": [
    "Приведите названия в соответствие с хорошим стилем:\n",
    "* несколько слов в названии запишите в «змеином_регистре»,\n",
    "* все символы сделайте строчными,\n",
    "* устраните пробелы.\n",
    "\n",
    "Для этого переименуйте колонки так:\n",
    "* `'  userID'` → `'user_id'`;\n",
    "* `'Track'` → `'track'`;\n",
    "* `'  City  '` → `'city'`;\n",
    "* `'Day'` → `'day'`."
   ]
  },
  {
   "cell_type": "code",
   "execution_count": 11,
   "metadata": {
    "id": "ISlFqs5y_Zct"
   },
   "outputs": [],
   "source": [
    "df = df.rename(columns={'  userID' : 'user_id', 'Track' : 'track', '  City  ' : 'city', 'Day' : 'day'}) # переименование столбцов"
   ]
  },
  {
   "cell_type": "markdown",
   "metadata": {
    "id": "1dqbh00J_Zct"
   },
   "source": [
    "Проверьте результат. Для этого ещё раз выведите на экран названия столбцов:"
   ]
  },
  {
   "cell_type": "code",
   "execution_count": 12,
   "metadata": {
    "id": "d4NOAmTW_Zct"
   },
   "outputs": [
    {
     "name": "stdout",
     "output_type": "stream",
     "text": [
      "<class 'pandas.core.frame.DataFrame'>\n",
      "RangeIndex: 65079 entries, 0 to 65078\n",
      "Data columns (total 7 columns):\n",
      "user_id    65079 non-null object\n",
      "track      63848 non-null object\n",
      "artist     57876 non-null object\n",
      "genre      63881 non-null object\n",
      "city       65079 non-null object\n",
      "time       65079 non-null object\n",
      "day        65079 non-null object\n",
      "dtypes: object(7)\n",
      "memory usage: 3.5+ MB\n"
     ]
    },
    {
     "data": {
      "text/plain": [
       "None"
      ]
     },
     "metadata": {},
     "output_type": "display_data"
    }
   ],
   "source": [
    "display(df.info()) # проверка результатов - перечень названий столбцов"
   ]
  },
  {
   "cell_type": "markdown",
   "metadata": {
    "id": "5ISfbcfY_Zct"
   },
   "source": [
    "### Пропуски значений\n",
    "Сначала посчитайте, сколько в таблице пропущенных значений. Для этого достаточно двух методов `pandas`:"
   ]
  },
  {
   "cell_type": "code",
   "execution_count": 13,
   "metadata": {
    "id": "RskX29qr_Zct"
   },
   "outputs": [
    {
     "data": {
      "text/plain": [
       "user_id       0\n",
       "track      1231\n",
       "artist     7203\n",
       "genre      1198\n",
       "city          0\n",
       "time          0\n",
       "day           0\n",
       "dtype: int64"
      ]
     },
     "metadata": {},
     "output_type": "display_data"
    }
   ],
   "source": [
    "display(df.isna().sum()) # подсчёт пропусков"
   ]
  },
  {
   "cell_type": "markdown",
   "metadata": {
    "id": "qubhgnlO_Zct"
   },
   "source": [
    "Не все пропущенные значения влияют на исследование. Так в `track` и `artist` пропуски не важны для вашей работы. Достаточно заменить их явными обозначениями.\n",
    "\n",
    "Но пропуски в `genre` могут помешать сравнению музыкальных вкусов в Москве и Санкт-Петербурге. На практике было бы правильно установить причину пропусков и восстановить данные. Такой возможности нет в учебном проекте. Придётся:\n",
    "* заполнить и эти пропуски явными обозначениями,\n",
    "* оценить, насколько они повредят расчётам. "
   ]
  },
  {
   "cell_type": "markdown",
   "metadata": {
    "id": "fSv2laPA_Zct"
   },
   "source": [
    "Замените пропущенные значения в столбцах `track`, `artist` и `genre` на строку `'unknown'`. Для этого создайте список `columns_to_replace`, переберите его элементы циклом `for` и для каждого столбца выполните замену пропущенных значений:"
   ]
  },
  {
   "cell_type": "code",
   "execution_count": 14,
   "metadata": {
    "id": "KplB5qWs_Zct"
   },
   "outputs": [],
   "source": [
    "columns_to_replace = ['track','artist','genre']\n",
    "for columns_to_replace in df: # перебор названий столбцов в цикле и замена пропущенных значений на 'unknown'\n",
    "    df = df.fillna('unknown')"
   ]
  },
  {
   "cell_type": "markdown",
   "metadata": {
    "id": "Ilsm-MZo_Zct"
   },
   "source": [
    "Убедитесь, что в таблице не осталось пропусков. Для этого ещё раз посчитайте пропущенные значения."
   ]
  },
  {
   "cell_type": "code",
   "execution_count": 15,
   "metadata": {
    "id": "Tq4nYRX4_Zct"
   },
   "outputs": [
    {
     "data": {
      "text/plain": [
       "user_id    0\n",
       "track      0\n",
       "artist     0\n",
       "genre      0\n",
       "city       0\n",
       "time       0\n",
       "day        0\n",
       "dtype: int64"
      ]
     },
     "metadata": {},
     "output_type": "display_data"
    }
   ],
   "source": [
    "display(df.isna().sum()) # подсчёт пропусков"
   ]
  },
  {
   "cell_type": "markdown",
   "metadata": {},
   "source": [
    "<div class=\"alert alert-success\">\n",
    "<b>✔️ Комментарий ревьюера:</b> \n",
    "<br>Пропуски заменены верно!\n",
    "</div>"
   ]
  },
  {
   "cell_type": "markdown",
   "metadata": {
    "id": "BWKRtBJ3_Zct"
   },
   "source": [
    "### Дубликаты\n",
    "Посчитайте явные дубликаты в таблице одной командой:"
   ]
  },
  {
   "cell_type": "code",
   "execution_count": 16,
   "metadata": {
    "id": "36eES_S0_Zct"
   },
   "outputs": [
    {
     "name": "stdout",
     "output_type": "stream",
     "text": [
      "3826\n"
     ]
    }
   ],
   "source": [
    "print(df.duplicated().sum()) # подсчёт явных дубликатов"
   ]
  },
  {
   "cell_type": "markdown",
   "metadata": {
    "id": "Ot25h6XR_Zct"
   },
   "source": [
    "Вызовите специальный метод `pandas`, чтобы удалить явные дубликаты:"
   ]
  },
  {
   "cell_type": "code",
   "execution_count": 17,
   "metadata": {
    "id": "exFHq6tt_Zct"
   },
   "outputs": [],
   "source": [
    "df = df.drop_duplicates().reset_index(drop=True) # удаление явных дубликатов (с удалением старых индексов и формированием новых)"
   ]
  },
  {
   "cell_type": "markdown",
   "metadata": {
    "id": "Im2YwBEG_Zct"
   },
   "source": [
    "Ещё раз посчитайте явные дубликаты в таблице — убедитесь, что полностью от них избавились:"
   ]
  },
  {
   "cell_type": "code",
   "execution_count": 18,
   "metadata": {
    "id": "-8PuNWQ0_Zct"
   },
   "outputs": [
    {
     "name": "stdout",
     "output_type": "stream",
     "text": [
      "0\n"
     ]
    }
   ],
   "source": [
    "print(df.duplicated().sum()) # проверка на отсутствие дубликатов"
   ]
  },
  {
   "cell_type": "markdown",
   "metadata": {
    "id": "QlFBsxAr_Zct"
   },
   "source": [
    "Теперь избавьтесь от неявных дубликатов в колонке `genre`. Например, название одного и того же жанра может быть записано немного по-разному. Такие ошибки тоже повлияют на результат исследования."
   ]
  },
  {
   "cell_type": "markdown",
   "metadata": {
    "id": "eSjWwsOh_Zct"
   },
   "source": [
    "Выведите на экран список уникальных названий жанров, отсортированный в алфавитном порядке. Для этого:\n",
    "* извлеките нужный столбец датафрейма, \n",
    "* примените к нему метод сортировки,\n",
    "* для отсортированного столбца вызовите метод, который вернёт уникальные значения из столбца."
   ]
  },
  {
   "cell_type": "code",
   "execution_count": 19,
   "metadata": {
    "id": "JIUcqzZN_Zct"
   },
   "outputs": [
    {
     "data": {
      "text/plain": [
       "array(['acid', 'acoustic', 'action', 'adult', 'africa', 'afrikaans',\n",
       "       'alternative', 'alternativepunk', 'ambient', 'americana',\n",
       "       'animated', 'anime', 'arabesk', 'arabic', 'arena',\n",
       "       'argentinetango', 'art', 'audiobook', 'author', 'avantgarde',\n",
       "       'axé', 'baile', 'balkan', 'beats', 'bigroom', 'black', 'bluegrass',\n",
       "       'blues', 'bollywood', 'bossa', 'brazilian', 'breakbeat', 'breaks',\n",
       "       'broadway', 'cantautori', 'cantopop', 'canzone', 'caribbean',\n",
       "       'caucasian', 'celtic', 'chamber', 'chanson', 'children', 'chill',\n",
       "       'chinese', 'choral', 'christian', 'christmas', 'classical',\n",
       "       'classicmetal', 'club', 'colombian', 'comedy', 'conjazz',\n",
       "       'contemporary', 'country', 'cuban', 'dance', 'dancehall',\n",
       "       'dancepop', 'dark', 'death', 'deep', 'deutschrock', 'deutschspr',\n",
       "       'dirty', 'disco', 'dnb', 'documentary', 'downbeat', 'downtempo',\n",
       "       'drum', 'dub', 'dubstep', 'eastern', 'easy', 'electronic',\n",
       "       'electropop', 'emo', 'entehno', 'epicmetal', 'estrada', 'ethnic',\n",
       "       'eurofolk', 'european', 'experimental', 'extrememetal', 'fado',\n",
       "       'fairytail', 'film', 'fitness', 'flamenco', 'folk', 'folklore',\n",
       "       'folkmetal', 'folkrock', 'folktronica', 'forró', 'frankreich',\n",
       "       'französisch', 'french', 'funk', 'future', 'gangsta', 'garage',\n",
       "       'german', 'ghazal', 'gitarre', 'glitch', 'gospel', 'gothic',\n",
       "       'grime', 'grunge', 'gypsy', 'handsup', \"hard'n'heavy\", 'hardcore',\n",
       "       'hardstyle', 'hardtechno', 'hip', 'hip-hop', 'hiphop',\n",
       "       'historisch', 'holiday', 'hop', 'horror', 'house', 'hymn', 'idm',\n",
       "       'independent', 'indian', 'indie', 'indipop', 'industrial',\n",
       "       'inspirational', 'instrumental', 'international', 'irish', 'jam',\n",
       "       'japanese', 'jazz', 'jewish', 'jpop', 'jungle', 'k-pop',\n",
       "       'karadeniz', 'karaoke', 'kayokyoku', 'korean', 'laiko', 'latin',\n",
       "       'latino', 'leftfield', 'local', 'lounge', 'loungeelectronic',\n",
       "       'lovers', 'malaysian', 'mandopop', 'marschmusik', 'meditative',\n",
       "       'mediterranean', 'melodic', 'metal', 'metalcore', 'mexican',\n",
       "       'middle', 'minimal', 'miscellaneous', 'modern', 'mood', 'mpb',\n",
       "       'muslim', 'native', 'neoklassik', 'neue', 'new', 'newage',\n",
       "       'newwave', 'nu', 'nujazz', 'numetal', 'oceania', 'old', 'opera',\n",
       "       'orchestral', 'other', 'piano', 'podcasts', 'pop', 'popdance',\n",
       "       'popelectronic', 'popeurodance', 'poprussian', 'post',\n",
       "       'posthardcore', 'postrock', 'power', 'progmetal', 'progressive',\n",
       "       'psychedelic', 'punjabi', 'punk', 'quebecois', 'ragga', 'ram',\n",
       "       'rancheras', 'rap', 'rave', 'reggae', 'reggaeton', 'regional',\n",
       "       'relax', 'religious', 'retro', 'rhythm', 'rnb', 'rnr', 'rock',\n",
       "       'rockabilly', 'rockalternative', 'rockindie', 'rockother',\n",
       "       'romance', 'roots', 'ruspop', 'rusrap', 'rusrock', 'russian',\n",
       "       'salsa', 'samba', 'scenic', 'schlager', 'self', 'sertanejo',\n",
       "       'shanson', 'shoegazing', 'showtunes', 'singer', 'ska', 'skarock',\n",
       "       'slow', 'smooth', 'soft', 'soul', 'soulful', 'sound', 'soundtrack',\n",
       "       'southern', 'specialty', 'speech', 'spiritual', 'sport',\n",
       "       'stonerrock', 'surf', 'swing', 'synthpop', 'synthrock',\n",
       "       'sängerportrait', 'tango', 'tanzorchester', 'taraftar', 'tatar',\n",
       "       'tech', 'techno', 'teen', 'thrash', 'top', 'traditional',\n",
       "       'tradjazz', 'trance', 'tribal', 'trip', 'triphop', 'tropical',\n",
       "       'türk', 'türkçe', 'ukrrock', 'unknown', 'urban', 'uzbek',\n",
       "       'variété', 'vi', 'videogame', 'vocal', 'western', 'world',\n",
       "       'worldbeat', 'ïîï', 'электроника'], dtype=object)"
      ]
     },
     "metadata": {},
     "output_type": "display_data"
    }
   ],
   "source": [
    "display((df['genre'].sort_values()).unique()) # Просмотр уникальных названий жанров"
   ]
  },
  {
   "cell_type": "markdown",
   "metadata": {
    "id": "qej-Qmuo_Zct"
   },
   "source": [
    "Просмотрите список и найдите неявные дубликаты названия `hiphop`. Это могут быть названия с ошибками или альтернативные названия того же жанра.\n",
    "\n",
    "Вы увидите следующие неявные дубликаты:\n",
    "* *hip*,\n",
    "* *hop*,\n",
    "* *hip-hop*.\n",
    "\n",
    "Чтобы очистить от них таблицу, напишите функцию `replace_wrong_genres()` с двумя параметрами: \n",
    "* `wrong_genres` — список дубликатов,\n",
    "* `correct_genre` — строка с правильным значением.\n",
    "\n",
    "Функция должна исправить колонку `genre` в таблице `df`: заменить каждое значение из списка `wrong_genres` на значение из `correct_genre`."
   ]
  },
  {
   "cell_type": "code",
   "execution_count": 20,
   "metadata": {
    "id": "ErNDkmns_Zct"
   },
   "outputs": [],
   "source": [
    "def replace_wrong_genres(wrong_genres, correct_genre):\n",
    "    for wrong_genres in wrong_genres:\n",
    "        df['genre'] = df['genre'].replace(wrong_genres, correct_genre)"
   ]
  },
  {
   "cell_type": "markdown",
   "metadata": {
    "id": "aDoBJxbA_Zct"
   },
   "source": [
    "Вызовите `replace_wrong_genres()` и передайте ей такие аргументы, чтобы она устранила неявные дубликаты: вместо `hip`, `hop` и `hip-hop` в таблице должно быть значение `hiphop`:"
   ]
  },
  {
   "cell_type": "code",
   "execution_count": 21,
   "metadata": {
    "id": "YN5i2hpmSo09"
   },
   "outputs": [],
   "source": [
    "replace_wrong_genres(['hip','hop','hip-hop'] , 'hiphop') # Устранение неявных дубликатов\n",
    "replace_wrong_genres(['ïîï'], 'unknown') # Устранение странных названий\n",
    "replace_wrong_genres(['электроника'], 'electronic') # Устранение странных названий"
   ]
  },
  {
   "cell_type": "markdown",
   "metadata": {},
   "source": [
    "<div class=\"alert alert-warning\">\n",
    "<b>⚠️ Комментарий ревьюера:</b> \n",
    "<br>Здесь можно заменить дубликаты не создавая дополнительные переменные:\n",
    "    \n",
    "    replace_wrong_genres(['hip', 'hop', 'hip-hop'], 'hiphop')\n",
    "</div>\n",
    "\n",
    "<div class=\"alert alert-success\">\n",
    "<b>✔️ Комментарий ревьюера:</b> \n",
    "<br>Круто, что заменил дубликаты ещё для нескольких значений!\n",
    "</div>"
   ]
  },
  {
   "cell_type": "markdown",
   "metadata": {},
   "source": [
    "<div class=\"alert alert-info\">\n",
    "<b>Комментарий студента:</b>\n",
    "<br>Есть еще названия жанров, которые вызывают вопросы (например: vi и türk). Как выглядит формат уточнения данных у заказчика? Имеюю ввиду нужно ли аналитику доказывать, заказчику, что такого формата нет? \n",
    "</div>"
   ]
  },
  {
   "cell_type": "markdown",
   "metadata": {},
   "source": [
    "<div class=\"alert alert-success\">\n",
    "<b>✔️ Комментарий ревьюера v2:</b>\n",
    "<br>Доказывать врядли стоит, лучше уточнить у самого заказчика как с такими данными поступать. Важно получить одобрение на самотостоятельное принятие решения в таких вопросах, чтобы потом у заказчика не было недовольства\n",
    "</div>"
   ]
  },
  {
   "cell_type": "markdown",
   "metadata": {
    "id": "zQKF16_RG15m"
   },
   "source": [
    "Проверьте, что заменили неправильные названия:\n",
    "\n",
    "*   hip\n",
    "*   hop\n",
    "*   hip-hop\n",
    "\n",
    "Выведите отсортированный список уникальных значений столбца `genre`:"
   ]
  },
  {
   "cell_type": "code",
   "execution_count": 22,
   "metadata": {
    "id": "wvixALnFG15m"
   },
   "outputs": [
    {
     "data": {
      "text/plain": [
       "array(['acid', 'acoustic', 'action', 'adult', 'africa', 'afrikaans',\n",
       "       'alternative', 'alternativepunk', 'ambient', 'americana',\n",
       "       'animated', 'anime', 'arabesk', 'arabic', 'arena',\n",
       "       'argentinetango', 'art', 'audiobook', 'author', 'avantgarde',\n",
       "       'axé', 'baile', 'balkan', 'beats', 'bigroom', 'black', 'bluegrass',\n",
       "       'blues', 'bollywood', 'bossa', 'brazilian', 'breakbeat', 'breaks',\n",
       "       'broadway', 'cantautori', 'cantopop', 'canzone', 'caribbean',\n",
       "       'caucasian', 'celtic', 'chamber', 'chanson', 'children', 'chill',\n",
       "       'chinese', 'choral', 'christian', 'christmas', 'classical',\n",
       "       'classicmetal', 'club', 'colombian', 'comedy', 'conjazz',\n",
       "       'contemporary', 'country', 'cuban', 'dance', 'dancehall',\n",
       "       'dancepop', 'dark', 'death', 'deep', 'deutschrock', 'deutschspr',\n",
       "       'dirty', 'disco', 'dnb', 'documentary', 'downbeat', 'downtempo',\n",
       "       'drum', 'dub', 'dubstep', 'eastern', 'easy', 'electronic',\n",
       "       'electropop', 'emo', 'entehno', 'epicmetal', 'estrada', 'ethnic',\n",
       "       'eurofolk', 'european', 'experimental', 'extrememetal', 'fado',\n",
       "       'fairytail', 'film', 'fitness', 'flamenco', 'folk', 'folklore',\n",
       "       'folkmetal', 'folkrock', 'folktronica', 'forró', 'frankreich',\n",
       "       'französisch', 'french', 'funk', 'future', 'gangsta', 'garage',\n",
       "       'german', 'ghazal', 'gitarre', 'glitch', 'gospel', 'gothic',\n",
       "       'grime', 'grunge', 'gypsy', 'handsup', \"hard'n'heavy\", 'hardcore',\n",
       "       'hardstyle', 'hardtechno', 'hiphop', 'historisch', 'holiday',\n",
       "       'horror', 'house', 'hymn', 'idm', 'independent', 'indian', 'indie',\n",
       "       'indipop', 'industrial', 'inspirational', 'instrumental',\n",
       "       'international', 'irish', 'jam', 'japanese', 'jazz', 'jewish',\n",
       "       'jpop', 'jungle', 'k-pop', 'karadeniz', 'karaoke', 'kayokyoku',\n",
       "       'korean', 'laiko', 'latin', 'latino', 'leftfield', 'local',\n",
       "       'lounge', 'loungeelectronic', 'lovers', 'malaysian', 'mandopop',\n",
       "       'marschmusik', 'meditative', 'mediterranean', 'melodic', 'metal',\n",
       "       'metalcore', 'mexican', 'middle', 'minimal', 'miscellaneous',\n",
       "       'modern', 'mood', 'mpb', 'muslim', 'native', 'neoklassik', 'neue',\n",
       "       'new', 'newage', 'newwave', 'nu', 'nujazz', 'numetal', 'oceania',\n",
       "       'old', 'opera', 'orchestral', 'other', 'piano', 'podcasts', 'pop',\n",
       "       'popdance', 'popelectronic', 'popeurodance', 'poprussian', 'post',\n",
       "       'posthardcore', 'postrock', 'power', 'progmetal', 'progressive',\n",
       "       'psychedelic', 'punjabi', 'punk', 'quebecois', 'ragga', 'ram',\n",
       "       'rancheras', 'rap', 'rave', 'reggae', 'reggaeton', 'regional',\n",
       "       'relax', 'religious', 'retro', 'rhythm', 'rnb', 'rnr', 'rock',\n",
       "       'rockabilly', 'rockalternative', 'rockindie', 'rockother',\n",
       "       'romance', 'roots', 'ruspop', 'rusrap', 'rusrock', 'russian',\n",
       "       'salsa', 'samba', 'scenic', 'schlager', 'self', 'sertanejo',\n",
       "       'shanson', 'shoegazing', 'showtunes', 'singer', 'ska', 'skarock',\n",
       "       'slow', 'smooth', 'soft', 'soul', 'soulful', 'sound', 'soundtrack',\n",
       "       'southern', 'specialty', 'speech', 'spiritual', 'sport',\n",
       "       'stonerrock', 'surf', 'swing', 'synthpop', 'synthrock',\n",
       "       'sängerportrait', 'tango', 'tanzorchester', 'taraftar', 'tatar',\n",
       "       'tech', 'techno', 'teen', 'thrash', 'top', 'traditional',\n",
       "       'tradjazz', 'trance', 'tribal', 'trip', 'triphop', 'tropical',\n",
       "       'türk', 'türkçe', 'ukrrock', 'unknown', 'urban', 'uzbek',\n",
       "       'variété', 'vi', 'videogame', 'vocal', 'western', 'world',\n",
       "       'worldbeat'], dtype=object)"
      ]
     },
     "metadata": {},
     "output_type": "display_data"
    }
   ],
   "source": [
    "# Проверка на неявные дубликаты\n",
    "display((df['genre'].sort_values()).unique())"
   ]
  },
  {
   "cell_type": "markdown",
   "metadata": {
    "id": "jz6a9-7HQUDd"
   },
   "source": [
    "**Выводы**\n",
    "\n",
    "Предобработка обнаружила три проблемы в данных:\n",
    "\n",
    "- нарушения в стиле заголовков,\n",
    "- пропущенные значения,\n",
    "- дубликаты — явные и неявные.\n",
    "\n",
    "Вы исправили заголовки, чтобы упростить работу с таблицей. Без дубликатов исследование станет более точным.\n",
    "\n",
    "Пропущенные значения вы заменили на `'unknown'`. Ещё предстоит увидеть, не повредят ли исследованию пропуски в колонке `genre`.\n",
    "\n",
    "Теперь можно перейти к проверке гипотез. "
   ]
  },
  {
   "cell_type": "markdown",
   "metadata": {},
   "source": [
    "<div class=\"alert alert-success\">\n",
    "<b>✔️ Комментарий ревьюера:</b> \n",
    "<br>Супер! От дубликатов избавились)\n",
    "</div>"
   ]
  },
  {
   "cell_type": "markdown",
   "metadata": {
    "id": "WttZHXH0SqKk"
   },
   "source": [
    "## Проверка гипотез"
   ]
  },
  {
   "cell_type": "markdown",
   "metadata": {
    "id": "Im936VVi_Zcu"
   },
   "source": [
    "### Сравнение поведения пользователей двух столиц"
   ]
  },
  {
   "cell_type": "markdown",
   "metadata": {
    "id": "nwt_MuaL_Zcu"
   },
   "source": [
    "Первая гипотеза утверждает, что пользователи по-разному слушают музыку в Москве и Санкт-Петербурге. Проверьте это предположение по данным о трёх днях недели — понедельнике, среде и пятнице. Для этого:\n",
    "\n",
    "* Разделите пользователей Москвы и Санкт-Петербурга\n",
    "* Сравните, сколько треков послушала каждая группа пользователей в понедельник, среду и пятницу.\n"
   ]
  },
  {
   "cell_type": "markdown",
   "metadata": {
    "id": "8Dw_YMmT_Zcu"
   },
   "source": [
    "Для тренировки сначала выполните каждый из расчётов по отдельности. \n",
    "\n",
    "Оцените активность пользователей в каждом городе. Сгруппируйте данные по городу и посчитайте прослушивания в каждой группе.\n",
    "\n"
   ]
  },
  {
   "cell_type": "code",
   "execution_count": 23,
   "metadata": {
    "id": "0_Qs96oh_Zcu"
   },
   "outputs": [
    {
     "data": {
      "text/plain": [
       "city\n",
       "Moscow              42741\n",
       "Saint-Petersburg    18512\n",
       "Name: genre, dtype: int64"
      ]
     },
     "metadata": {},
     "output_type": "display_data"
    }
   ],
   "source": [
    "display(df.groupby('city')['genre'].count()) # Подсчёт прослушиваний в каждом городе"
   ]
  },
  {
   "cell_type": "markdown",
   "metadata": {
    "id": "dzli3w8o_Zcu"
   },
   "source": [
    "В Москве прослушиваний больше, чем в Петербурге. Из этого не следует, что московские пользователи чаще слушают музыку. Просто самих пользователей в Москве больше.\n",
    "\n",
    "Теперь сгруппируйте данные по дню недели и подсчитайте прослушивания в понедельник, среду и пятницу. Учтите, что в данных есть информация только о прослушиваниях только за эти дни.\n"
   ]
  },
  {
   "cell_type": "code",
   "execution_count": 24,
   "metadata": {
    "id": "uZMKjiJz_Zcu"
   },
   "outputs": [
    {
     "data": {
      "text/plain": [
       "day\n",
       "Friday       21840\n",
       "Monday       21354\n",
       "Wednesday    18059\n",
       "Name: genre, dtype: int64"
      ]
     },
     "metadata": {},
     "output_type": "display_data"
    }
   ],
   "source": [
    "display(df.groupby('day')['genre'].count()) # Подсчёт прослушиваний в каждый из трёх дней"
   ]
  },
  {
   "cell_type": "markdown",
   "metadata": {
    "id": "cC2tNrlL_Zcu"
   },
   "source": [
    "В среднем пользователи из двух городов менее активны по средам. Но картина может измениться, если рассмотреть каждый город в отдельности."
   ]
  },
  {
   "cell_type": "markdown",
   "metadata": {
    "id": "POzs8bGa_Zcu"
   },
   "source": [
    "Вы видели, как работает группировка по городу и по дням недели. Теперь напишите функцию, которая объединит два эти расчёта.\n",
    "\n",
    "Создайте функцию `number_tracks()`, которая посчитает прослушивания для заданного дня и города. Ей понадобятся два параметра:\n",
    "* день недели,\n",
    "* название города.\n",
    "\n",
    "В функции сохраните в переменную строки исходной таблицы, у которых значение:\n",
    "  * в колонке `day` равно параметру `day`,\n",
    "  * в колонке `city` равно параметру `city`.\n",
    "\n",
    "Для этого примените последовательную фильтрацию с логической индексацией.\n",
    "\n",
    "Затем посчитайте значения в столбце `user_id` получившейся таблицы. Результат сохраните в новую переменную. Верните эту переменную из функции."
   ]
  },
  {
   "cell_type": "code",
   "execution_count": 25,
   "metadata": {
    "id": "Nz3GdQB1_Zcu"
   },
   "outputs": [],
   "source": [
    "                              # <создание функции number_tracks()>\n",
    "def number_tracks(day,city): # Объявляется функция с двумя параметрами: day, city.\n",
    "    track_list = df[df['day'] == day]  \n",
    "    track_list = track_list[track_list['city'] == city] \n",
    "    track_list_count = track_list['user_id'].count()\n",
    "    print(track_list_count)\n",
    "    \n",
    "# В переменной track_list сохраняются те строки таблицы df, для которых \n",
    "# значение в столбце 'day' равно параметру day и одновременно значение\n",
    "# в столбце 'city' равно параметру city (используйте последовательную фильтрацию\n",
    "# с помощью логической индексации).\n",
    "# В переменной track_list_count сохраняется число значений столбца 'user_id',\n",
    "# рассчитанное методом count() для таблицы track_list.\n",
    "# Функция возвращает число - значение track_list_count.\n",
    "\n",
    "# Функция для подсчёта прослушиваний для конкретного города и дня.\n",
    "# С помощью последовательной фильтрации с логической индексацией она \n",
    "# сначала получит из исходной таблицы строки с нужным днём,\n",
    "# затем из результата отфильтрует строки с нужным городом,\n",
    "# методом count() посчитает количество значений в колонке user_id. \n",
    "# Это количество функция вернёт в качестве результата"
   ]
  },
  {
   "cell_type": "markdown",
   "metadata": {
    "id": "ytf7xFrFJQ2r"
   },
   "source": [
    "Вызовите `number_tracks()` шесть раз, меняя значение параметров — так, чтобы получить данные для каждого города в каждый из трёх дней."
   ]
  },
  {
   "cell_type": "code",
   "execution_count": 26,
   "metadata": {
    "id": "rJcRATNQ_Zcu"
   },
   "outputs": [
    {
     "name": "stdout",
     "output_type": "stream",
     "text": [
      "15740\n"
     ]
    }
   ],
   "source": [
    "number_tracks('Monday','Moscow') # количество прослушиваний в Москве по понедельникам"
   ]
  },
  {
   "cell_type": "code",
   "execution_count": 27,
   "metadata": {
    "id": "hq_ncZ5T_Zcu"
   },
   "outputs": [
    {
     "name": "stdout",
     "output_type": "stream",
     "text": [
      "5614\n"
     ]
    }
   ],
   "source": [
    "number_tracks('Monday','Saint-Petersburg') # количество прослушиваний в Санкт-Петербурге по понедельникам"
   ]
  },
  {
   "cell_type": "code",
   "execution_count": 28,
   "metadata": {
    "id": "_NTy2VPU_Zcu"
   },
   "outputs": [
    {
     "name": "stdout",
     "output_type": "stream",
     "text": [
      "11056\n"
     ]
    }
   ],
   "source": [
    "number_tracks('Wednesday','Moscow') # количество прослушиваний в Москве по средам"
   ]
  },
  {
   "cell_type": "code",
   "execution_count": 29,
   "metadata": {
    "id": "j2y3TAwo_Zcu"
   },
   "outputs": [
    {
     "name": "stdout",
     "output_type": "stream",
     "text": [
      "7003\n"
     ]
    }
   ],
   "source": [
    "number_tracks('Wednesday','Saint-Petersburg') # количество прослушиваний в Санкт-Петербурге по средам"
   ]
  },
  {
   "cell_type": "code",
   "execution_count": 30,
   "metadata": {
    "id": "vYDw5u_K_Zcu"
   },
   "outputs": [
    {
     "name": "stdout",
     "output_type": "stream",
     "text": [
      "15945\n"
     ]
    }
   ],
   "source": [
    "number_tracks('Friday','Moscow') # количество прослушиваний в Москве по пятницам"
   ]
  },
  {
   "cell_type": "code",
   "execution_count": 31,
   "metadata": {
    "id": "8_yzFtW3_Zcu"
   },
   "outputs": [
    {
     "name": "stdout",
     "output_type": "stream",
     "text": [
      "5895\n"
     ]
    }
   ],
   "source": [
    "number_tracks('Friday','Saint-Petersburg') # количество прослушиваний в Санкт-Петербурге по пятницам"
   ]
  },
  {
   "cell_type": "markdown",
   "metadata": {
    "id": "7QXffbO-_Zcu"
   },
   "source": [
    "Создайте c помощью конструктора `pd.DataFrame` таблицу, где\n",
    "* названия колонок — `['city', 'monday', 'wednesday', 'friday']`;\n",
    "* данные — результаты, которые вы получили с помощью `number_tracks`."
   ]
  },
  {
   "cell_type": "code",
   "execution_count": 32,
   "metadata": {
    "id": "APAcLpOr_Zcu"
   },
   "outputs": [
    {
     "data": {
      "text/html": [
       "<div>\n",
       "<style scoped>\n",
       "    .dataframe tbody tr th:only-of-type {\n",
       "        vertical-align: middle;\n",
       "    }\n",
       "\n",
       "    .dataframe tbody tr th {\n",
       "        vertical-align: top;\n",
       "    }\n",
       "\n",
       "    .dataframe thead th {\n",
       "        text-align: right;\n",
       "    }\n",
       "</style>\n",
       "<table border=\"1\" class=\"dataframe\">\n",
       "  <thead>\n",
       "    <tr style=\"text-align: right;\">\n",
       "      <th></th>\n",
       "      <th>city</th>\n",
       "      <th>monday</th>\n",
       "      <th>wednesday</th>\n",
       "      <th>friday</th>\n",
       "    </tr>\n",
       "  </thead>\n",
       "  <tbody>\n",
       "    <tr>\n",
       "      <td>0</td>\n",
       "      <td>Moscow</td>\n",
       "      <td>15740</td>\n",
       "      <td>11056</td>\n",
       "      <td>15945</td>\n",
       "    </tr>\n",
       "    <tr>\n",
       "      <td>1</td>\n",
       "      <td>Saint-Petersburg</td>\n",
       "      <td>5614</td>\n",
       "      <td>7003</td>\n",
       "      <td>5895</td>\n",
       "    </tr>\n",
       "  </tbody>\n",
       "</table>\n",
       "</div>"
      ],
      "text/plain": [
       "               city  monday  wednesday  friday\n",
       "0            Moscow   15740      11056   15945\n",
       "1  Saint-Petersburg    5614       7003    5895"
      ]
     },
     "metadata": {},
     "output_type": "display_data"
    }
   ],
   "source": [
    "# Таблица с результатами\n",
    "data = [\n",
    "    ['Moscow',15740,11056,15945],\n",
    "    ['Saint-Petersburg',5614,7003,5895],\n",
    "    ]\n",
    "columns = ['city', 'monday', 'wednesday', 'friday']\n",
    "\n",
    "number_tracks_table = pd.DataFrame(data = data , columns = columns)\n",
    "display(number_tracks_table)"
   ]
  },
  {
   "cell_type": "markdown",
   "metadata": {},
   "source": [
    "<div class=\"alert alert-success\">\n",
    "<b>✔️ Комментарий ревьюера:</b> \n",
    "<br>Датафрейм построен верно. Молодец!\n",
    "</div>\n",
    "\n",
    "<div class=\"alert alert-warning\">\n",
    "<b>⚠️ Комментарий ревьюера:</b> \n",
    "<br>Альтернативное решение:\n",
    "    \n",
    "    info = pd.DataFrame(data=[['Москва', 15740, 11056, 15945], ['Санкт-Петербург', 5614, 7003, 5895]], columns=['city', 'monday', 'wednesday', 'friday'])\n",
    "</div>"
   ]
  },
  {
   "cell_type": "markdown",
   "metadata": {},
   "source": [
    "<div class=\"alert alert-info\">\n",
    "<b>Комментарий студента:</b>\n",
    "<br>Хорошо, возьму на заметку)\n",
    "</div>"
   ]
  },
  {
   "cell_type": "markdown",
   "metadata": {
    "id": "-EgPIHYu_Zcu"
   },
   "source": [
    "**Выводы**\n",
    "\n",
    "Данные показывают разницу поведения пользователей:\n",
    "\n",
    "- В Москве пик прослушиваний приходится на понедельник и пятницу, а в среду заметен спад.\n",
    "- В Петербурге, наоборот, больше слушают музыку по средам. Активность в понедельник и пятницу здесь почти в равной мере уступает среде.\n",
    "\n",
    "Значит, данные говорят в пользу первой гипотезы."
   ]
  },
  {
   "cell_type": "markdown",
   "metadata": {
    "id": "atZAxtq4_Zcu"
   },
   "source": [
    "### Музыка в начале и в конце недели"
   ]
  },
  {
   "cell_type": "markdown",
   "metadata": {
    "id": "eXrQqXFH_Zcu"
   },
   "source": [
    "Согласно второй гипотезе, утром в понедельник в Москве преобладают одни жанры, а в Петербурге — другие. Так же и вечером пятницы преобладают разные жанры — в зависимости от города."
   ]
  },
  {
   "cell_type": "markdown",
   "metadata": {
    "id": "S8UcW6Hw_Zcu"
   },
   "source": [
    "Сохраните таблицы с данными в две переменные:\n",
    "* по Москве — в `moscow_general`;\n",
    "* по Санкт-Петербургу — в `spb_general`."
   ]
  },
  {
   "cell_type": "code",
   "execution_count": 33,
   "metadata": {
    "id": "qeaFfM_P_Zcu"
   },
   "outputs": [],
   "source": [
    "# получение таблицы moscow_general из тех строк таблицы df, \n",
    "# для которых значение в столбце 'city' равно 'Moscow'\n",
    "moscow_general = df[df['city'] == 'Moscow']"
   ]
  },
  {
   "cell_type": "code",
   "execution_count": 34,
   "metadata": {
    "id": "ORaVRKto_Zcu"
   },
   "outputs": [],
   "source": [
    "# получение таблицы spb_general из тех строк таблицы df,\n",
    "# для которых значение в столбце 'city' равно 'Saint-Petersburg'\n",
    "spb_general = df[df['city'] == 'Saint-Petersburg']"
   ]
  },
  {
   "cell_type": "markdown",
   "metadata": {
    "id": "MEJV-CX2_Zcu"
   },
   "source": [
    "Создайте функцию `genre_weekday()` с четырьмя параметрами:\n",
    "* таблица (датафрейм) с данными,\n",
    "* день недели,\n",
    "* начальная временная метка в формате 'hh:mm', \n",
    "* последняя временная метка в формате 'hh:mm'.\n",
    "\n",
    "Функция должна вернуть информацию о топ-10 жанров тех треков, которые прослушивали в указанный день, в промежутке между двумя отметками времени."
   ]
  },
  {
   "cell_type": "code",
   "execution_count": 35,
   "metadata": {
    "id": "laJT9BYl_Zcu"
   },
   "outputs": [],
   "source": [
    "# Объявление функции genre_weekday() с параметрами table, day, time1, time2,\n",
    "# которая возвращает информацию о самых популярных жанрах в указанный день в\n",
    "# заданное время:\n",
    "def genre_weekday(table, day, time1, time2):\n",
    "    genre_df = table[table['day'] == day]\n",
    "    genre_df = genre_df[genre_df['time'] >= time1]\n",
    "    genre_df = genre_df[genre_df['time'] <= time2]\n",
    "    genre_df_count = genre_df.groupby('genre').count()\n",
    "    genre_df_sorted = genre_df_count['track'].sort_values(ascending=False)\n",
    "    display(genre_df_sorted.head(10))\n",
    "\n",
    "# 1) в переменную genre_df сохраняются те строки переданного датафрейма table, для\n",
    "#    которых одновременно:\n",
    "#    - значение в столбце day равно значению аргумента day\n",
    "#    - значение в столбце time больше значения аргумента time1\n",
    "#    - значение в столбце time меньше значения аргумента time2\n",
    "#    Используйте последовательную фильтрацию с помощью логической индексации.\n",
    "# 2) сгруппировать датафрейм genre_df по столбцу genre, взять один из его\n",
    "#    столбцов и посчитать методом count() количество записей для каждого из\n",
    "#    присутствующих жанров, получившийся Series записать в переменную\n",
    "#    genre_df_count\n",
    "# 3) отсортировать genre_df_count по убыванию встречаемости и сохранить\n",
    "#    в переменную genre_df_sorted\n",
    "# 4) вернуть Series из 10 первых значений genre_df_sorted, это будут топ-10\n",
    "#    популярных жанров (в указанный день, в заданное время)"
   ]
  },
  {
   "cell_type": "markdown",
   "metadata": {},
   "source": [
    "<div class=\"alert alert-success\">\n",
    "<b>✔️ Комментарий ревьюера: </b> \n",
    "<br>Замечательно! Здесь тоже все верно.\n",
    "</div>\n",
    "\n",
    "<div class=\"alert alert-warning\">\n",
    "<b>⚠️ Комментарий ревьюера:</b> \n",
    "<br>Как можно это сделать другим способом:\n",
    "<br>1. В одну строку: \n",
    "    \n",
    "    genre_df = table[(table['day'] == day) & (table['time'] > time1) & (table['time'] < time2)]\n",
    "<br>2. Через метод query(): \n",
    "\n",
    "    genre_df = table.query('@day==day and @time1 < time < @time2')\n",
    "<br>Метод query вы будете изучать в следующем спринте, а пока про него можно почитать в документации pandas:\n",
    "\n",
    "\thttps://pandas.pydata.org/docs/reference/api/pandas.DataFrame.query.html\n",
    "</div>"
   ]
  },
  {
   "cell_type": "markdown",
   "metadata": {},
   "source": [
    "<div class=\"alert alert-info\">\n",
    "<b>Комментарий студента:</b>\n",
    "<br>Вау! Я столько бился с этой функцией, а оказывается все так просто... Запомнил!\n",
    "</div>"
   ]
  },
  {
   "cell_type": "markdown",
   "metadata": {},
   "source": [
    "<div class=\"alert alert-success\">\n",
    "<b>✔️ Комментарий ревьюера v2:</b>\n",
    "<br>👍\n",
    "</div>"
   ]
  },
  {
   "cell_type": "markdown",
   "metadata": {
    "id": "la2s2_PF_Zcu"
   },
   "source": [
    "Cравните результаты функции `genre_weekday()` для Москвы и Санкт-Петербурга в понедельник утром (с 7:00 до 11:00) и в пятницу вечером (с 17:00 до 23:00):"
   ]
  },
  {
   "cell_type": "code",
   "execution_count": 36,
   "metadata": {
    "id": "yz7itPUQ_Zcu"
   },
   "outputs": [
    {
     "data": {
      "text/plain": [
       "genre\n",
       "pop            781\n",
       "dance          549\n",
       "electronic     480\n",
       "rock           474\n",
       "hiphop         286\n",
       "ruspop         186\n",
       "world          181\n",
       "rusrap         175\n",
       "alternative    164\n",
       "unknown        161\n",
       "Name: track, dtype: int64"
      ]
     },
     "metadata": {},
     "output_type": "display_data"
    }
   ],
   "source": [
    "# вызов функции для утра понедельника в Москве (вместо df — таблица moscow_general)\n",
    "# объекты, хранящие время, являются строками и сравниваются как строки\n",
    "# пример вызова: genre_weekday(moscow_general, 'Monday', '07:00', '11:00')\n",
    "genre_weekday(moscow_general,'Monday','07:00','11:00')"
   ]
  },
  {
   "cell_type": "code",
   "execution_count": 37,
   "metadata": {
    "id": "kwUcHPdy_Zcu"
   },
   "outputs": [
    {
     "data": {
      "text/plain": [
       "genre\n",
       "pop            218\n",
       "dance          182\n",
       "rock           162\n",
       "electronic     147\n",
       "hiphop          80\n",
       "ruspop          64\n",
       "alternative     58\n",
       "rusrap          55\n",
       "jazz            44\n",
       "classical       40\n",
       "Name: track, dtype: int64"
      ]
     },
     "metadata": {},
     "output_type": "display_data"
    }
   ],
   "source": [
    "# вызов функции для утра понедельника в Петербурге (вместо df — таблица spb_general)\n",
    "genre_weekday(spb_general,'Monday','07:00','11:00')"
   ]
  },
  {
   "cell_type": "code",
   "execution_count": 38,
   "metadata": {
    "id": "EzXVRE1o_Zcu"
   },
   "outputs": [
    {
     "data": {
      "text/plain": [
       "genre\n",
       "pop            713\n",
       "rock           517\n",
       "dance          495\n",
       "electronic     482\n",
       "hiphop         273\n",
       "world          208\n",
       "ruspop         170\n",
       "alternative    163\n",
       "classical      163\n",
       "rusrap         142\n",
       "Name: track, dtype: int64"
      ]
     },
     "metadata": {},
     "output_type": "display_data"
    }
   ],
   "source": [
    "# вызов функции для вечера пятницы в Москве\n",
    "genre_weekday(moscow_general,'Friday','17:00','23:00')"
   ]
  },
  {
   "cell_type": "code",
   "execution_count": 39,
   "metadata": {
    "id": "JZaEKu5v_Zcu"
   },
   "outputs": [
    {
     "data": {
      "text/plain": [
       "genre\n",
       "pop            256\n",
       "rock           216\n",
       "electronic     216\n",
       "dance          210\n",
       "hiphop          97\n",
       "alternative     63\n",
       "jazz            61\n",
       "classical       60\n",
       "rusrap          59\n",
       "world           54\n",
       "Name: track, dtype: int64"
      ]
     },
     "metadata": {},
     "output_type": "display_data"
    }
   ],
   "source": [
    "# вызов функции для вечера пятницы в Петербурге\n",
    "genre_weekday(spb_general,'Friday','17:00','23:00')"
   ]
  },
  {
   "cell_type": "markdown",
   "metadata": {
    "id": "wrCe4MNX_Zcu"
   },
   "source": [
    "**Выводы**\n",
    "\n",
    "Если сравнить топ-10 жанров в понедельник утром, можно сделать такие выводы:\n",
    "\n",
    "1. В Москве и Петербурге слушают похожую музыку. Единственное отличие — в московский рейтинг вошёл жанр “world”, а в петербургский — джаз и классика.\n",
    "\n",
    "2. В Москве пропущенных значений оказалось так много, что значение `'unknown'` заняло десятое место среди самых популярных жанров. Значит, пропущенные значения занимают существенную долю в данных и угрожают достоверности исследования.\n",
    "\n",
    "Вечер пятницы не меняет эту картину. Некоторые жанры поднимаются немного выше, другие спускаются, но в целом топ-10 остаётся тем же самым.\n",
    "\n",
    "Таким образом, вторая гипотеза подтвердилась лишь частично:\n",
    "* Пользователи слушают похожую музыку в начале недели и в конце.\n",
    "* Разница между Москвой и Петербургом не слишком выражена. В Москве чаще слушают русскую популярную музыку, в Петербурге — джаз.\n",
    "\n",
    "Однако пропуски в данных ставят под сомнение этот результат. В Москве их так много, что рейтинг топ-10 мог бы выглядеть иначе, если бы не утерянные  данные о жанрах."
   ]
  },
  {
   "cell_type": "markdown",
   "metadata": {
    "id": "JolODAqr_Zcu"
   },
   "source": [
    "### Жанровые предпочтения в Москве и Петербурге\n",
    "\n",
    "Гипотеза: Петербург — столица рэпа, музыку этого жанра там слушают чаще, чем в Москве.  А Москва — город контрастов, в котором, тем не менее, преобладает поп-музыка."
   ]
  },
  {
   "cell_type": "markdown",
   "metadata": {
    "id": "DlegSvaT_Zcu"
   },
   "source": [
    "Сгруппируйте таблицу `moscow_general` по жанру и посчитайте прослушивания треков каждого жанра методом `count()`. Затем отсортируйте результат в порядке убывания и сохраните его в таблице `moscow_genres`."
   ]
  },
  {
   "cell_type": "code",
   "execution_count": 40,
   "metadata": {
    "id": "r19lIPke_Zcu"
   },
   "outputs": [],
   "source": [
    "# одной строкой: группировка таблицы moscow_general по столбцу 'genre', \n",
    "# подсчёт числа значений 'genre' в этой группировке методом count(), \n",
    "# сортировка получившегося Series в порядке убывания и сохранение в moscow_genres\n",
    "moscow_genres = moscow_general.groupby('genre').count()\n",
    "moscow_genres = moscow_genres['track'].sort_values(ascending=False)"
   ]
  },
  {
   "cell_type": "markdown",
   "metadata": {
    "id": "6kMuomxTiIr8"
   },
   "source": [
    "Выведите на экран первые десять строк `moscow_genres`:"
   ]
  },
  {
   "cell_type": "code",
   "execution_count": 41,
   "metadata": {
    "id": "WhCSooF8_Zcv"
   },
   "outputs": [
    {
     "data": {
      "text/plain": [
       "genre\n",
       "pop            5892\n",
       "dance          4435\n",
       "rock           3965\n",
       "electronic     3786\n",
       "hiphop         2096\n",
       "classical      1616\n",
       "world          1432\n",
       "alternative    1379\n",
       "ruspop         1372\n",
       "rusrap         1161\n",
       "Name: track, dtype: int64"
      ]
     },
     "metadata": {},
     "output_type": "display_data"
    }
   ],
   "source": [
    "display(moscow_genres.head(10)) # просмотр первых 10 строк moscow_genres"
   ]
  },
  {
   "cell_type": "markdown",
   "metadata": {
    "id": "cnPG2vnN_Zcv"
   },
   "source": [
    "Теперь повторите то же и для Петербурга.\n",
    "\n",
    "Сгруппируйте таблицу `spb_general` по жанру. Посчитайте прослушивания треков каждого жанра. Результат отсортируйте в порядке убывания и сохраните в таблице `spb_genres`:\n"
   ]
  },
  {
   "cell_type": "code",
   "execution_count": 42,
   "metadata": {
    "id": "gluLIpE7_Zcv"
   },
   "outputs": [],
   "source": [
    "# одной строкой: группировка таблицы spb_general по столбцу 'genre', \n",
    "# подсчёт числа значений 'genre' в этой группировке методом count(), \n",
    "# сортировка получившегося Series в порядке убывания и сохранение в spb_genres\n",
    "spb_genres = spb_general.groupby('genre').count()\n",
    "spb_genres = spb_genres['track'].sort_values(ascending=False)"
   ]
  },
  {
   "cell_type": "markdown",
   "metadata": {
    "id": "5Doha_ODgyQ8"
   },
   "source": [
    "Выведите на экран первые десять строк `spb_genres`:"
   ]
  },
  {
   "cell_type": "code",
   "execution_count": 43,
   "metadata": {
    "id": "uaGJHjVU_Zcv"
   },
   "outputs": [
    {
     "data": {
      "text/plain": [
       "genre\n",
       "pop            2431\n",
       "dance          1932\n",
       "rock           1879\n",
       "electronic     1737\n",
       "hiphop          960\n",
       "alternative     649\n",
       "classical       646\n",
       "rusrap          564\n",
       "ruspop          538\n",
       "world           515\n",
       "Name: track, dtype: int64"
      ]
     },
     "metadata": {},
     "output_type": "display_data"
    }
   ],
   "source": [
    "display(spb_genres.head(10)) # просмотр первых 10 строк spb_genres"
   ]
  },
  {
   "cell_type": "markdown",
   "metadata": {
    "id": "RY51YJYu_Zcv"
   },
   "source": [
    "**Выводы**"
   ]
  },
  {
   "cell_type": "markdown",
   "metadata": {
    "id": "nVhnJEm__Zcv"
   },
   "source": [
    "Гипотеза частично подтвердилась:\n",
    "* Поп-музыка — самый популярный жанр в Москве, как и предполагала гипотеза. Более того, в топ-10 жанров встречается близкий жанр — русская популярная музыка.\n",
    "* Вопреки ожиданиям, рэп одинаково популярен в Москве и Петербурге. \n"
   ]
  },
  {
   "cell_type": "markdown",
   "metadata": {},
   "source": [
    "<div class=\"alert alert-success\">\n",
    "<b>✔️ Комментарий ревьюера:</b> \n",
    "<br>Отлично, с жанровыми предпочтениями тоже разобрались.\n",
    "</div>"
   ]
  },
  {
   "cell_type": "markdown",
   "metadata": {
    "id": "ykKQ0N65_Zcv"
   },
   "source": [
    "## Итоги исследования"
   ]
  },
  {
   "cell_type": "markdown",
   "metadata": {
    "id": "tjUwbHb3_Zcv"
   },
   "source": [
    "Вы проверили три гипотезы и установили:\n",
    "\n",
    "1. День недели по-разному влияет на активность пользователей в Москве и Петербурге. \n",
    "\n",
    "Первая гипотеза полностью подтвердилась.\n",
    "\n",
    "2. Музыкальные предпочтения не сильно меняются в течение недели — будь то Москва или Петербург. Небольшие различия заметны в начале недели, по понедельникам:\n",
    "* в Москве слушают музыку жанра “world”,\n",
    "* в Петербурге — джаз и классику.\n",
    "\n",
    "Таким образом, вторая гипотеза подтвердилась лишь отчасти. Этот результат мог оказаться иным, если бы не пропуски в данных.\n",
    "\n",
    "3. Во вкусах пользователей Москвы и Петербурга больше общего чем различий. Вопреки ожиданиям, предпочтения жанров в Петербурге напоминают московские.\n",
    "\n",
    "Третья гипотеза не подтвердилась. Если различия в предпочтениях и существуют, на основной массе пользователей они незаметны.\n",
    "\n",
    "**На практике исследования содержат проверки статистических гипотез.**\n",
    "Из данных одного сервиса не всегда можно сделать вывод о всех жителях города.\n",
    "Проверки статистических гипотез покажут, насколько они достоверны, исходя из имеющихся данных. \n",
    "С методами проверок гипотез вы ещё познакомитесь в следующих темах."
   ]
  },
  {
   "cell_type": "markdown",
   "metadata": {},
   "source": [
    "<div class=\"alert alert-success\">\n",
    "<b>✔️ Итоговый комментарий ревьюера:</b>\n",
    "<br>Я бы мог принять твою работу с первого раза, но хочу дать тебе возможность задать мне вопросы) Если вопросов нет, то я с радостью приму проект)\n",
    "</div>"
   ]
  },
  {
   "cell_type": "markdown",
   "metadata": {},
   "source": [
    "<div class=\"alert alert-info\">\n",
    "<b>Комментарий студента:</b>\n",
    "<br> Круто, спасибо!) Я задал один вопрос, но на него можно и не отвечать, он больше отностится к работе с заказчиком)\n",
    "</div>"
   ]
  },
  {
   "cell_type": "markdown",
   "metadata": {},
   "source": [
    "<div class=\"alert alert-success\">\n",
    "<b>✔️ Итоговый комментарий ревьюера v2:</b>\n",
    "<br>Рад был помочь! На вопрос постарался ответить. Основной принцип - снять с себя ответственность там, где это может выйти боком. Для этого нужно стараться уточнить все детали до начала работы\n",
    "<br>У тебя отличная работа! Все правки выполнены ✅ Здорово, что ты проработал жёлтые комментарии. Практика никогда не бывает лишней)\n",
    "<br>Ты продемонстрировал владение базовыми методами pandas, которые очень пригодятся тебе в будущих проектах. Желаю удачи в дальнейшем обучении! 😉\n",
    "</div>"
   ]
  }
 ],
 "metadata": {
  "ExecuteTimeLog": [
   {
    "duration": 94,
    "start_time": "2022-01-28T04:30:26.543Z"
   },
   {
    "duration": 82,
    "start_time": "2022-01-28T04:30:34.200Z"
   },
   {
    "duration": 91,
    "start_time": "2022-01-28T04:30:42.504Z"
   },
   {
    "duration": 570,
    "start_time": "2022-01-28T04:30:48.896Z"
   },
   {
    "duration": 140,
    "start_time": "2022-01-28T04:32:15.493Z"
   },
   {
    "duration": 136,
    "start_time": "2022-01-28T04:32:17.999Z"
   },
   {
    "duration": 142,
    "start_time": "2022-01-28T04:32:19.680Z"
   },
   {
    "duration": 304,
    "start_time": "2022-01-28T04:32:42.144Z"
   },
   {
    "duration": 7,
    "start_time": "2022-01-28T04:32:54.792Z"
   },
   {
    "duration": 14,
    "start_time": "2022-01-28T04:34:05.536Z"
   },
   {
    "duration": 26,
    "start_time": "2022-01-28T04:34:45.641Z"
   },
   {
    "duration": 25,
    "start_time": "2022-01-28T04:34:52.448Z"
   },
   {
    "duration": 276,
    "start_time": "2022-01-28T04:48:02.672Z"
   },
   {
    "duration": 4,
    "start_time": "2022-01-28T04:49:57.142Z"
   },
   {
    "duration": 30,
    "start_time": "2022-01-28T04:55:07.750Z"
   },
   {
    "duration": 25,
    "start_time": "2022-01-28T04:55:46.448Z"
   },
   {
    "duration": 22,
    "start_time": "2022-01-28T04:55:56.359Z"
   },
   {
    "duration": 24,
    "start_time": "2022-01-28T04:56:09.599Z"
   },
   {
    "duration": 23,
    "start_time": "2022-01-28T04:56:18.343Z"
   },
   {
    "duration": 18,
    "start_time": "2022-01-28T04:56:41.895Z"
   },
   {
    "duration": 24,
    "start_time": "2022-01-28T04:56:49.111Z"
   },
   {
    "duration": 24,
    "start_time": "2022-01-28T04:59:05.046Z"
   },
   {
    "duration": 24,
    "start_time": "2022-01-28T04:59:22.462Z"
   },
   {
    "duration": 26,
    "start_time": "2022-01-28T05:00:59.719Z"
   },
   {
    "duration": 25,
    "start_time": "2022-01-28T05:01:14.112Z"
   },
   {
    "duration": 9,
    "start_time": "2022-01-28T05:10:46.125Z"
   },
   {
    "duration": 17,
    "start_time": "2022-01-28T05:11:42.274Z"
   },
   {
    "duration": 24,
    "start_time": "2022-01-28T05:11:53.045Z"
   },
   {
    "duration": 24,
    "start_time": "2022-01-28T05:29:03.692Z"
   },
   {
    "duration": 24,
    "start_time": "2022-01-28T05:29:13.702Z"
   },
   {
    "duration": 24,
    "start_time": "2022-01-28T05:29:31.468Z"
   },
   {
    "duration": 27,
    "start_time": "2022-01-28T05:29:41.533Z"
   },
   {
    "duration": 23,
    "start_time": "2022-01-28T05:29:55.494Z"
   },
   {
    "duration": 23,
    "start_time": "2022-01-28T05:30:22.726Z"
   },
   {
    "duration": 14,
    "start_time": "2022-01-28T05:30:27.925Z"
   },
   {
    "duration": 27,
    "start_time": "2022-01-28T05:30:30.517Z"
   },
   {
    "duration": 3,
    "start_time": "2022-01-28T05:30:45.605Z"
   },
   {
    "duration": 23,
    "start_time": "2022-01-28T05:30:47.909Z"
   },
   {
    "duration": 25,
    "start_time": "2022-01-28T05:30:53.125Z"
   },
   {
    "duration": 11,
    "start_time": "2022-01-28T05:31:53.904Z"
   },
   {
    "duration": 25,
    "start_time": "2022-01-28T05:31:59.406Z"
   },
   {
    "duration": 24,
    "start_time": "2022-01-28T05:32:46.430Z"
   },
   {
    "duration": 128,
    "start_time": "2022-01-28T05:33:03.838Z"
   },
   {
    "duration": 10,
    "start_time": "2022-01-28T05:33:06.334Z"
   },
   {
    "duration": 24,
    "start_time": "2022-01-28T05:33:09.383Z"
   },
   {
    "duration": 4,
    "start_time": "2022-01-28T05:33:16.623Z"
   },
   {
    "duration": 19,
    "start_time": "2022-01-28T05:33:19.927Z"
   },
   {
    "duration": 26,
    "start_time": "2022-01-28T05:33:22.078Z"
   },
   {
    "duration": 25,
    "start_time": "2022-01-28T05:33:27.198Z"
   },
   {
    "duration": 24,
    "start_time": "2022-01-28T05:38:46.790Z"
   },
   {
    "duration": 3,
    "start_time": "2022-01-28T05:41:32.326Z"
   },
   {
    "duration": 4,
    "start_time": "2022-01-28T05:41:49.102Z"
   },
   {
    "duration": 5,
    "start_time": "2022-01-28T05:42:44.231Z"
   },
   {
    "duration": 27,
    "start_time": "2022-01-28T05:58:46.932Z"
   },
   {
    "duration": 23,
    "start_time": "2022-01-28T05:58:53.220Z"
   },
   {
    "duration": 50,
    "start_time": "2022-01-28T05:59:33.940Z"
   },
   {
    "duration": 45,
    "start_time": "2022-01-28T05:59:40.324Z"
   },
   {
    "duration": 244,
    "start_time": "2022-01-28T06:01:08.828Z"
   },
   {
    "duration": 257,
    "start_time": "2022-01-28T06:01:47.859Z"
   },
   {
    "duration": 432,
    "start_time": "2022-01-28T06:02:12.884Z"
   },
   {
    "duration": 392,
    "start_time": "2022-01-28T06:02:18.747Z"
   },
   {
    "duration": 462,
    "start_time": "2022-01-28T06:02:26.835Z"
   },
   {
    "duration": 422,
    "start_time": "2022-01-28T06:03:00.539Z"
   },
   {
    "duration": 268,
    "start_time": "2022-01-28T06:03:07.939Z"
   },
   {
    "duration": 91,
    "start_time": "2022-01-28T06:03:32.956Z"
   },
   {
    "duration": 2,
    "start_time": "2022-01-28T06:03:48.460Z"
   },
   {
    "duration": 6,
    "start_time": "2022-01-28T06:04:08.611Z"
   },
   {
    "duration": -121,
    "start_time": "2022-01-28T06:04:36.677Z"
   },
   {
    "duration": 6061,
    "start_time": "2022-01-28T06:04:41.939Z"
   },
   {
    "duration": 6493,
    "start_time": "2022-01-28T06:05:01.363Z"
   },
   {
    "duration": 5,
    "start_time": "2022-01-28T06:05:38.932Z"
   },
   {
    "duration": 3,
    "start_time": "2022-01-28T06:06:50.908Z"
   },
   {
    "duration": 11,
    "start_time": "2022-01-28T06:07:14.275Z"
   },
   {
    "duration": 10,
    "start_time": "2022-01-28T06:07:34.690Z"
   },
   {
    "duration": 18,
    "start_time": "2022-01-28T06:08:00.779Z"
   },
   {
    "duration": 25,
    "start_time": "2022-01-28T06:09:06.788Z"
   },
   {
    "duration": 22,
    "start_time": "2022-01-28T06:09:09.451Z"
   },
   {
    "duration": 3273,
    "start_time": "2022-01-28T06:09:29.099Z"
   },
   {
    "duration": 3368,
    "start_time": "2022-01-28T06:10:04.203Z"
   },
   {
    "duration": 243,
    "start_time": "2022-01-28T06:10:47.571Z"
   },
   {
    "duration": 279,
    "start_time": "2022-01-28T06:10:51.269Z"
   },
   {
    "duration": 265,
    "start_time": "2022-01-28T06:11:06.570Z"
   },
   {
    "duration": 361,
    "start_time": "2022-01-28T06:11:31.795Z"
   },
   {
    "duration": 251,
    "start_time": "2022-01-28T06:11:35.250Z"
   },
   {
    "duration": 3,
    "start_time": "2022-01-28T06:11:42.442Z"
   },
   {
    "duration": 4,
    "start_time": "2022-01-28T06:11:47.545Z"
   },
   {
    "duration": 588,
    "start_time": "2022-01-28T06:12:23.560Z"
   },
   {
    "duration": 137,
    "start_time": "2022-01-28T06:12:24.150Z"
   },
   {
    "duration": 16,
    "start_time": "2022-01-28T06:12:24.289Z"
   },
   {
    "duration": 49,
    "start_time": "2022-01-28T06:12:24.307Z"
   },
   {
    "duration": 32,
    "start_time": "2022-01-28T06:12:24.358Z"
   },
   {
    "duration": 45,
    "start_time": "2022-01-28T06:12:24.391Z"
   },
   {
    "duration": 40,
    "start_time": "2022-01-28T06:12:24.437Z"
   },
   {
    "duration": 41,
    "start_time": "2022-01-28T06:12:24.480Z"
   },
   {
    "duration": 30,
    "start_time": "2022-01-28T06:12:24.523Z"
   },
   {
    "duration": 34,
    "start_time": "2022-01-28T06:12:24.555Z"
   },
   {
    "duration": 9,
    "start_time": "2022-01-28T06:12:24.590Z"
   },
   {
    "duration": 11,
    "start_time": "2022-01-28T06:12:24.600Z"
   },
   {
    "duration": 13,
    "start_time": "2022-01-28T06:12:24.613Z"
   },
   {
    "duration": 24,
    "start_time": "2022-01-28T06:12:24.628Z"
   },
   {
    "duration": 23,
    "start_time": "2022-01-28T06:12:24.653Z"
   },
   {
    "duration": 16,
    "start_time": "2022-01-28T06:12:24.678Z"
   },
   {
    "duration": 15,
    "start_time": "2022-01-28T06:12:24.695Z"
   },
   {
    "duration": 24,
    "start_time": "2022-01-28T06:12:24.712Z"
   },
   {
    "duration": 28,
    "start_time": "2022-01-28T06:12:24.737Z"
   },
   {
    "duration": 22,
    "start_time": "2022-01-28T06:12:24.767Z"
   },
   {
    "duration": 29,
    "start_time": "2022-01-28T06:12:24.790Z"
   },
   {
    "duration": 24,
    "start_time": "2022-01-28T06:12:24.821Z"
   },
   {
    "duration": 25,
    "start_time": "2022-01-28T06:12:24.848Z"
   },
   {
    "duration": 34,
    "start_time": "2022-01-28T06:12:24.875Z"
   },
   {
    "duration": 18,
    "start_time": "2022-01-28T06:12:24.911Z"
   },
   {
    "duration": 40,
    "start_time": "2022-01-28T06:12:24.930Z"
   },
   {
    "duration": 34,
    "start_time": "2022-01-28T06:12:24.972Z"
   },
   {
    "duration": 26,
    "start_time": "2022-01-28T06:12:25.008Z"
   },
   {
    "duration": 34,
    "start_time": "2022-01-28T06:12:25.036Z"
   },
   {
    "duration": 29,
    "start_time": "2022-01-28T06:12:25.072Z"
   },
   {
    "duration": 42,
    "start_time": "2022-01-28T06:12:25.102Z"
   },
   {
    "duration": 16,
    "start_time": "2022-01-28T06:12:25.146Z"
   },
   {
    "duration": 29,
    "start_time": "2022-01-28T06:12:25.164Z"
   },
   {
    "duration": 19,
    "start_time": "2022-01-28T06:12:25.194Z"
   },
   {
    "duration": 20,
    "start_time": "2022-01-28T06:12:25.214Z"
   },
   {
    "duration": 25,
    "start_time": "2022-01-28T06:12:25.235Z"
   },
   {
    "duration": 10,
    "start_time": "2022-01-28T06:12:25.262Z"
   },
   {
    "duration": 27,
    "start_time": "2022-01-28T06:12:25.273Z"
   },
   {
    "duration": 24,
    "start_time": "2022-01-28T06:12:34.570Z"
   },
   {
    "duration": 24,
    "start_time": "2022-01-28T06:12:37.593Z"
   },
   {
    "duration": 3315,
    "start_time": "2022-01-28T06:12:50.802Z"
   },
   {
    "duration": 8,
    "start_time": "2022-01-28T06:13:09.121Z"
   },
   {
    "duration": 601,
    "start_time": "2022-01-28T06:13:29.454Z"
   },
   {
    "duration": 141,
    "start_time": "2022-01-28T06:13:30.057Z"
   },
   {
    "duration": 17,
    "start_time": "2022-01-28T06:13:30.200Z"
   },
   {
    "duration": 42,
    "start_time": "2022-01-28T06:13:30.219Z"
   },
   {
    "duration": 5,
    "start_time": "2022-01-28T06:13:30.263Z"
   },
   {
    "duration": 25,
    "start_time": "2022-01-28T06:13:30.269Z"
   },
   {
    "duration": 23,
    "start_time": "2022-01-28T06:13:30.296Z"
   },
   {
    "duration": 51,
    "start_time": "2022-01-28T06:13:30.322Z"
   },
   {
    "duration": 23,
    "start_time": "2022-01-28T06:13:30.376Z"
   },
   {
    "duration": 3,
    "start_time": "2022-01-28T06:13:30.401Z"
   },
   {
    "duration": 6,
    "start_time": "2022-01-28T06:13:30.406Z"
   },
   {
    "duration": 5,
    "start_time": "2022-01-28T06:13:30.414Z"
   },
   {
    "duration": 9,
    "start_time": "2022-01-28T06:13:30.421Z"
   },
   {
    "duration": 15,
    "start_time": "2022-01-28T06:13:30.431Z"
   },
   {
    "duration": 8,
    "start_time": "2022-01-28T06:13:30.461Z"
   },
   {
    "duration": 13,
    "start_time": "2022-01-28T06:13:30.470Z"
   },
   {
    "duration": 15,
    "start_time": "2022-01-28T06:13:30.484Z"
   },
   {
    "duration": 7,
    "start_time": "2022-01-28T06:13:30.501Z"
   },
   {
    "duration": 7,
    "start_time": "2022-01-28T06:13:30.510Z"
   },
   {
    "duration": 18,
    "start_time": "2022-01-28T06:13:30.519Z"
   },
   {
    "duration": 8,
    "start_time": "2022-01-28T06:13:30.539Z"
   },
   {
    "duration": 12,
    "start_time": "2022-01-28T06:13:30.548Z"
   },
   {
    "duration": 8,
    "start_time": "2022-01-28T06:13:30.563Z"
   },
   {
    "duration": 16,
    "start_time": "2022-01-28T06:13:30.573Z"
   },
   {
    "duration": 13,
    "start_time": "2022-01-28T06:13:30.591Z"
   },
   {
    "duration": 8,
    "start_time": "2022-01-28T06:13:30.606Z"
   },
   {
    "duration": 15,
    "start_time": "2022-01-28T06:13:30.616Z"
   },
   {
    "duration": 11,
    "start_time": "2022-01-28T06:13:30.632Z"
   },
   {
    "duration": 7,
    "start_time": "2022-01-28T06:13:30.645Z"
   },
   {
    "duration": 16,
    "start_time": "2022-01-28T06:13:30.653Z"
   },
   {
    "duration": 9,
    "start_time": "2022-01-28T06:13:30.671Z"
   },
   {
    "duration": 33,
    "start_time": "2022-01-28T06:13:30.682Z"
   },
   {
    "duration": 12,
    "start_time": "2022-01-28T06:13:30.716Z"
   },
   {
    "duration": 14,
    "start_time": "2022-01-28T06:13:30.730Z"
   },
   {
    "duration": 18,
    "start_time": "2022-01-28T06:13:30.746Z"
   },
   {
    "duration": 26,
    "start_time": "2022-01-28T06:13:30.766Z"
   },
   {
    "duration": 13,
    "start_time": "2022-01-28T06:13:30.794Z"
   },
   {
    "duration": 26,
    "start_time": "2022-01-28T06:13:45.624Z"
   },
   {
    "duration": 18,
    "start_time": "2022-01-28T06:14:23.121Z"
   },
   {
    "duration": 24,
    "start_time": "2022-01-28T06:14:41.576Z"
   },
   {
    "duration": 90,
    "start_time": "2022-01-28T06:49:49.238Z"
   },
   {
    "duration": 52,
    "start_time": "2022-01-28T06:51:01.431Z"
   },
   {
    "duration": 60,
    "start_time": "2022-01-28T06:51:04.456Z"
   },
   {
    "duration": 84,
    "start_time": "2022-01-28T06:51:06.982Z"
   },
   {
    "duration": 10,
    "start_time": "2022-01-28T06:53:52.974Z"
   },
   {
    "duration": 7222,
    "start_time": "2022-01-28T07:02:49.206Z"
   },
   {
    "duration": 7189,
    "start_time": "2022-01-28T07:03:58.582Z"
   },
   {
    "duration": 7154,
    "start_time": "2022-01-28T07:04:55.382Z"
   },
   {
    "duration": 6674,
    "start_time": "2022-01-28T07:07:35.998Z"
   },
   {
    "duration": 6771,
    "start_time": "2022-01-28T07:07:56.837Z"
   },
   {
    "duration": 11,
    "start_time": "2022-01-28T07:11:56.070Z"
   },
   {
    "duration": 14,
    "start_time": "2022-01-28T07:13:45.437Z"
   },
   {
    "duration": 3,
    "start_time": "2022-01-28T07:15:15.109Z"
   },
   {
    "duration": 14,
    "start_time": "2022-01-28T07:15:28.365Z"
   },
   {
    "duration": 13,
    "start_time": "2022-01-28T07:17:16.621Z"
   },
   {
    "duration": 7,
    "start_time": "2022-01-28T07:17:45.836Z"
   },
   {
    "duration": 262,
    "start_time": "2022-01-28T07:19:43.400Z"
   },
   {
    "duration": 272,
    "start_time": "2022-01-28T07:20:02.939Z"
   },
   {
    "duration": 275,
    "start_time": "2022-01-28T07:20:28.413Z"
   },
   {
    "duration": 6,
    "start_time": "2022-01-28T07:21:00.245Z"
   },
   {
    "duration": 23,
    "start_time": "2022-01-28T07:21:24.116Z"
   },
   {
    "duration": 253,
    "start_time": "2022-01-28T07:21:36.949Z"
   },
   {
    "duration": 13,
    "start_time": "2022-01-28T07:21:50.684Z"
   },
   {
    "duration": 5,
    "start_time": "2022-01-28T07:22:12.974Z"
   },
   {
    "duration": 6,
    "start_time": "2022-01-28T07:22:37.685Z"
   },
   {
    "duration": 264,
    "start_time": "2022-01-28T07:23:40.700Z"
   },
   {
    "duration": 53,
    "start_time": "2022-01-28T07:24:23.508Z"
   },
   {
    "duration": 75,
    "start_time": "2022-01-28T07:25:03.688Z"
   },
   {
    "duration": 39,
    "start_time": "2022-01-28T07:25:25.325Z"
   },
   {
    "duration": 42,
    "start_time": "2022-01-28T07:26:15.710Z"
   },
   {
    "duration": 708,
    "start_time": "2022-01-28T07:26:59.863Z"
   },
   {
    "duration": 146,
    "start_time": "2022-01-28T07:27:00.573Z"
   },
   {
    "duration": 18,
    "start_time": "2022-01-28T07:27:00.721Z"
   },
   {
    "duration": 45,
    "start_time": "2022-01-28T07:27:00.741Z"
   },
   {
    "duration": 27,
    "start_time": "2022-01-28T07:27:00.788Z"
   },
   {
    "duration": 43,
    "start_time": "2022-01-28T07:27:00.817Z"
   },
   {
    "duration": 57,
    "start_time": "2022-01-28T07:27:00.862Z"
   },
   {
    "duration": 61,
    "start_time": "2022-01-28T07:27:00.921Z"
   },
   {
    "duration": 40,
    "start_time": "2022-01-28T07:27:00.986Z"
   },
   {
    "duration": 45,
    "start_time": "2022-01-28T07:27:01.029Z"
   },
   {
    "duration": 85,
    "start_time": "2022-01-28T07:27:01.076Z"
   },
   {
    "duration": 73,
    "start_time": "2022-01-28T07:27:01.163Z"
   },
   {
    "duration": 71,
    "start_time": "2022-01-28T07:27:01.238Z"
   },
   {
    "duration": 56,
    "start_time": "2022-01-28T07:27:01.311Z"
   },
   {
    "duration": 7,
    "start_time": "2022-01-28T07:27:01.369Z"
   },
   {
    "duration": 28,
    "start_time": "2022-01-28T07:27:01.378Z"
   },
   {
    "duration": 56,
    "start_time": "2022-01-28T07:27:01.408Z"
   },
   {
    "duration": 3,
    "start_time": "2022-01-28T07:27:01.466Z"
   },
   {
    "duration": 11,
    "start_time": "2022-01-28T07:27:01.471Z"
   },
   {
    "duration": 7,
    "start_time": "2022-01-28T07:27:01.483Z"
   },
   {
    "duration": 9,
    "start_time": "2022-01-28T07:27:01.492Z"
   },
   {
    "duration": 8,
    "start_time": "2022-01-28T07:27:01.503Z"
   },
   {
    "duration": 9,
    "start_time": "2022-01-28T07:27:01.512Z"
   },
   {
    "duration": 19,
    "start_time": "2022-01-28T07:27:01.522Z"
   },
   {
    "duration": 22,
    "start_time": "2022-01-28T07:27:01.544Z"
   },
   {
    "duration": 59,
    "start_time": "2022-01-28T07:27:01.568Z"
   },
   {
    "duration": 32,
    "start_time": "2022-01-28T07:27:01.631Z"
   },
   {
    "duration": 23,
    "start_time": "2022-01-28T07:27:01.665Z"
   },
   {
    "duration": 30,
    "start_time": "2022-01-28T07:27:01.689Z"
   },
   {
    "duration": 23,
    "start_time": "2022-01-28T07:27:01.721Z"
   },
   {
    "duration": 21,
    "start_time": "2022-01-28T07:27:01.746Z"
   },
   {
    "duration": 26,
    "start_time": "2022-01-28T07:27:01.769Z"
   },
   {
    "duration": 47,
    "start_time": "2022-01-28T07:27:01.797Z"
   },
   {
    "duration": 18,
    "start_time": "2022-01-28T07:27:01.846Z"
   },
   {
    "duration": 30,
    "start_time": "2022-01-28T07:27:01.866Z"
   },
   {
    "duration": 31,
    "start_time": "2022-01-28T07:27:01.898Z"
   },
   {
    "duration": 18,
    "start_time": "2022-01-28T07:27:01.931Z"
   },
   {
    "duration": 30,
    "start_time": "2022-01-28T07:27:01.951Z"
   },
   {
    "duration": 21,
    "start_time": "2022-01-28T07:35:08.485Z"
   },
   {
    "duration": 3,
    "start_time": "2022-01-28T07:35:21.269Z"
   },
   {
    "duration": 10,
    "start_time": "2022-01-28T07:36:41.869Z"
   },
   {
    "duration": 585,
    "start_time": "2022-01-28T07:42:06.181Z"
   },
   {
    "duration": 509,
    "start_time": "2022-01-28T07:42:19.508Z"
   },
   {
    "duration": 507,
    "start_time": "2022-01-28T07:43:02.932Z"
   },
   {
    "duration": 494,
    "start_time": "2022-01-28T07:43:16.564Z"
   },
   {
    "duration": 518,
    "start_time": "2022-01-28T07:43:22.205Z"
   },
   {
    "duration": 482,
    "start_time": "2022-01-28T07:43:51.668Z"
   },
   {
    "duration": 735,
    "start_time": "2022-01-28T07:43:59.460Z"
   },
   {
    "duration": 600,
    "start_time": "2022-01-28T07:44:14.769Z"
   },
   {
    "duration": 133,
    "start_time": "2022-01-28T07:44:15.371Z"
   },
   {
    "duration": 17,
    "start_time": "2022-01-28T07:44:15.507Z"
   },
   {
    "duration": 42,
    "start_time": "2022-01-28T07:44:15.525Z"
   },
   {
    "duration": 4,
    "start_time": "2022-01-28T07:44:15.568Z"
   },
   {
    "duration": 23,
    "start_time": "2022-01-28T07:44:15.574Z"
   },
   {
    "duration": 27,
    "start_time": "2022-01-28T07:44:15.599Z"
   },
   {
    "duration": 24,
    "start_time": "2022-01-28T07:44:15.662Z"
   },
   {
    "duration": 20,
    "start_time": "2022-01-28T07:44:15.689Z"
   },
   {
    "duration": 53,
    "start_time": "2022-01-28T07:44:15.711Z"
   },
   {
    "duration": 58,
    "start_time": "2022-01-28T07:44:15.767Z"
   },
   {
    "duration": 87,
    "start_time": "2022-01-28T07:44:15.828Z"
   },
   {
    "duration": 60,
    "start_time": "2022-01-28T07:44:15.917Z"
   },
   {
    "duration": 40,
    "start_time": "2022-01-28T07:44:15.979Z"
   },
   {
    "duration": 3,
    "start_time": "2022-01-28T07:44:16.021Z"
   },
   {
    "duration": 655,
    "start_time": "2022-01-28T07:44:16.026Z"
   },
   {
    "duration": -127,
    "start_time": "2022-01-28T07:44:16.810Z"
   },
   {
    "duration": -131,
    "start_time": "2022-01-28T07:44:16.815Z"
   },
   {
    "duration": -132,
    "start_time": "2022-01-28T07:44:16.817Z"
   },
   {
    "duration": -131,
    "start_time": "2022-01-28T07:44:16.818Z"
   },
   {
    "duration": -132,
    "start_time": "2022-01-28T07:44:16.820Z"
   },
   {
    "duration": -132,
    "start_time": "2022-01-28T07:44:16.822Z"
   },
   {
    "duration": -132,
    "start_time": "2022-01-28T07:44:16.823Z"
   },
   {
    "duration": -134,
    "start_time": "2022-01-28T07:44:16.825Z"
   },
   {
    "duration": -135,
    "start_time": "2022-01-28T07:44:16.827Z"
   },
   {
    "duration": -135,
    "start_time": "2022-01-28T07:44:16.828Z"
   },
   {
    "duration": -135,
    "start_time": "2022-01-28T07:44:16.830Z"
   },
   {
    "duration": -135,
    "start_time": "2022-01-28T07:44:16.831Z"
   },
   {
    "duration": -136,
    "start_time": "2022-01-28T07:44:16.833Z"
   },
   {
    "duration": -136,
    "start_time": "2022-01-28T07:44:16.834Z"
   },
   {
    "duration": -137,
    "start_time": "2022-01-28T07:44:16.836Z"
   },
   {
    "duration": -138,
    "start_time": "2022-01-28T07:44:16.838Z"
   },
   {
    "duration": -138,
    "start_time": "2022-01-28T07:44:16.839Z"
   },
   {
    "duration": -139,
    "start_time": "2022-01-28T07:44:16.841Z"
   },
   {
    "duration": -140,
    "start_time": "2022-01-28T07:44:16.843Z"
   },
   {
    "duration": -140,
    "start_time": "2022-01-28T07:44:16.844Z"
   },
   {
    "duration": -161,
    "start_time": "2022-01-28T07:44:16.866Z"
   },
   {
    "duration": -166,
    "start_time": "2022-01-28T07:44:16.872Z"
   },
   {
    "duration": 608,
    "start_time": "2022-01-28T07:44:39.040Z"
   },
   {
    "duration": 40,
    "start_time": "2022-01-28T07:44:45.944Z"
   },
   {
    "duration": 3,
    "start_time": "2022-01-28T07:45:28.089Z"
   },
   {
    "duration": 498,
    "start_time": "2022-01-28T07:46:06.625Z"
   },
   {
    "duration": 9,
    "start_time": "2022-01-28T07:46:25.568Z"
   },
   {
    "duration": 39,
    "start_time": "2022-01-28T07:46:29.169Z"
   },
   {
    "duration": 16,
    "start_time": "2022-01-28T07:48:44.586Z"
   },
   {
    "duration": 60,
    "start_time": "2022-01-28T07:51:24.996Z"
   },
   {
    "duration": 38,
    "start_time": "2022-01-28T07:52:03.873Z"
   },
   {
    "duration": 41,
    "start_time": "2022-01-28T07:54:12.217Z"
   },
   {
    "duration": 9,
    "start_time": "2022-01-28T07:54:29.209Z"
   },
   {
    "duration": 45,
    "start_time": "2022-01-28T07:54:31.808Z"
   },
   {
    "duration": 23,
    "start_time": "2022-01-28T07:55:18.368Z"
   },
   {
    "duration": 12,
    "start_time": "2022-01-28T07:55:36.856Z"
   },
   {
    "duration": 33,
    "start_time": "2022-01-28T07:58:52.998Z"
   },
   {
    "duration": 307,
    "start_time": "2022-01-28T08:00:36.144Z"
   },
   {
    "duration": 247,
    "start_time": "2022-01-28T08:01:17.544Z"
   },
   {
    "duration": 23,
    "start_time": "2022-01-28T08:02:22.912Z"
   },
   {
    "duration": 22,
    "start_time": "2022-01-28T08:02:37.442Z"
   },
   {
    "duration": 30,
    "start_time": "2022-01-28T08:03:51.920Z"
   },
   {
    "duration": 28,
    "start_time": "2022-01-28T08:04:34.343Z"
   },
   {
    "duration": 30,
    "start_time": "2022-01-28T08:04:43.374Z"
   },
   {
    "duration": 28,
    "start_time": "2022-01-28T08:04:58.454Z"
   },
   {
    "duration": 30,
    "start_time": "2022-01-28T08:07:36.407Z"
   },
   {
    "duration": 30,
    "start_time": "2022-01-28T08:07:45.447Z"
   },
   {
    "duration": 32,
    "start_time": "2022-01-28T08:08:59.014Z"
   },
   {
    "duration": 38,
    "start_time": "2022-01-28T08:10:10.079Z"
   },
   {
    "duration": 33,
    "start_time": "2022-01-28T08:10:31.911Z"
   },
   {
    "duration": 35,
    "start_time": "2022-01-28T08:10:47.535Z"
   },
   {
    "duration": 36,
    "start_time": "2022-01-28T08:12:59.575Z"
   },
   {
    "duration": 54,
    "start_time": "2022-01-28T08:15:26.631Z"
   },
   {
    "duration": 53,
    "start_time": "2022-01-28T08:16:21.568Z"
   },
   {
    "duration": 12,
    "start_time": "2022-01-28T08:17:30.959Z"
   },
   {
    "duration": 12,
    "start_time": "2022-01-28T08:17:50.360Z"
   },
   {
    "duration": 15,
    "start_time": "2022-01-28T08:18:17.686Z"
   },
   {
    "duration": 30,
    "start_time": "2022-01-28T08:18:43.247Z"
   },
   {
    "duration": -130,
    "start_time": "2022-01-28T08:19:38.854Z"
   },
   {
    "duration": -130,
    "start_time": "2022-01-28T08:19:48.435Z"
   },
   {
    "duration": 6895,
    "start_time": "2022-01-28T08:19:53.310Z"
   },
   {
    "duration": 33,
    "start_time": "2022-01-28T08:20:21.256Z"
   },
   {
    "duration": 33,
    "start_time": "2022-01-28T08:20:58.366Z"
   },
   {
    "duration": 37,
    "start_time": "2022-01-28T08:21:36.904Z"
   },
   {
    "duration": 59,
    "start_time": "2022-01-28T08:21:51.519Z"
   },
   {
    "duration": 32,
    "start_time": "2022-01-28T08:22:36.390Z"
   },
   {
    "duration": 321,
    "start_time": "2022-01-28T08:23:17.174Z"
   },
   {
    "duration": 359,
    "start_time": "2022-01-28T08:23:22.647Z"
   },
   {
    "duration": 20,
    "start_time": "2022-01-28T08:24:29.862Z"
   },
   {
    "duration": 15,
    "start_time": "2022-01-28T08:25:08.541Z"
   },
   {
    "duration": 16,
    "start_time": "2022-01-28T08:25:10.917Z"
   },
   {
    "duration": 15,
    "start_time": "2022-01-28T08:25:18.334Z"
   },
   {
    "duration": 14,
    "start_time": "2022-01-28T08:25:35.126Z"
   },
   {
    "duration": 16,
    "start_time": "2022-01-28T08:25:44.798Z"
   },
   {
    "duration": 3706,
    "start_time": "2022-01-28T08:27:22.110Z"
   },
   {
    "duration": 14,
    "start_time": "2022-01-28T08:28:05.311Z"
   },
   {
    "duration": 264,
    "start_time": "2022-01-28T08:28:34.269Z"
   },
   {
    "duration": 14,
    "start_time": "2022-01-28T08:29:04.822Z"
   },
   {
    "duration": 11,
    "start_time": "2022-01-28T08:29:20.494Z"
   },
   {
    "duration": 10,
    "start_time": "2022-01-28T08:29:45.749Z"
   },
   {
    "duration": 11,
    "start_time": "2022-01-28T08:29:54.693Z"
   },
   {
    "duration": 50,
    "start_time": "2022-01-28T08:32:04.127Z"
   },
   {
    "duration": 48,
    "start_time": "2022-01-28T08:33:12.821Z"
   },
   {
    "duration": 52,
    "start_time": "2022-01-28T08:34:33.654Z"
   },
   {
    "duration": 53,
    "start_time": "2022-01-28T08:35:02.502Z"
   },
   {
    "duration": 3290,
    "start_time": "2022-01-28T08:35:12.141Z"
   },
   {
    "duration": 13,
    "start_time": "2022-01-28T08:37:39.565Z"
   },
   {
    "duration": 10,
    "start_time": "2022-01-28T08:37:52.133Z"
   },
   {
    "duration": 253,
    "start_time": "2022-01-28T08:38:33.420Z"
   },
   {
    "duration": 10,
    "start_time": "2022-01-28T08:38:42.269Z"
   },
   {
    "duration": 11,
    "start_time": "2022-01-28T08:46:13.311Z"
   },
   {
    "duration": 278,
    "start_time": "2022-01-28T08:48:48.437Z"
   },
   {
    "duration": 85,
    "start_time": "2022-01-28T08:49:44.485Z"
   },
   {
    "duration": 89,
    "start_time": "2022-01-28T08:49:51.710Z"
   },
   {
    "duration": 20,
    "start_time": "2022-01-28T08:50:51.102Z"
   },
   {
    "duration": 25,
    "start_time": "2022-01-28T08:51:22.221Z"
   },
   {
    "duration": 30,
    "start_time": "2022-01-28T08:52:37.725Z"
   },
   {
    "duration": 28,
    "start_time": "2022-01-28T08:53:43.549Z"
   },
   {
    "duration": 52,
    "start_time": "2022-01-28T08:53:52.013Z"
   },
   {
    "duration": 31,
    "start_time": "2022-01-28T08:54:46.717Z"
   },
   {
    "duration": 30,
    "start_time": "2022-01-28T08:55:20.333Z"
   },
   {
    "duration": 42,
    "start_time": "2022-01-28T08:58:50.093Z"
   },
   {
    "duration": 43,
    "start_time": "2022-01-28T08:59:03.780Z"
   },
   {
    "duration": 47,
    "start_time": "2022-01-28T08:59:27.517Z"
   },
   {
    "duration": 56,
    "start_time": "2022-01-28T08:59:50.685Z"
   },
   {
    "duration": 82,
    "start_time": "2022-01-28T09:00:17.757Z"
   },
   {
    "duration": 53,
    "start_time": "2022-01-28T09:00:52.269Z"
   },
   {
    "duration": 54,
    "start_time": "2022-01-28T09:01:06.333Z"
   },
   {
    "duration": 62,
    "start_time": "2022-01-28T09:01:47.596Z"
   },
   {
    "duration": 321,
    "start_time": "2022-01-28T09:08:51.172Z"
   },
   {
    "duration": 81,
    "start_time": "2022-01-28T09:09:22.772Z"
   },
   {
    "duration": 54,
    "start_time": "2022-01-28T09:11:41.923Z"
   },
   {
    "duration": 59,
    "start_time": "2022-01-28T09:12:56.140Z"
   },
   {
    "duration": 29,
    "start_time": "2022-01-28T09:13:39.803Z"
   },
   {
    "duration": 38,
    "start_time": "2022-01-28T09:14:29.427Z"
   },
   {
    "duration": 26,
    "start_time": "2022-01-28T09:14:57.081Z"
   },
   {
    "duration": 27,
    "start_time": "2022-01-28T09:15:09.898Z"
   },
   {
    "duration": 30,
    "start_time": "2022-01-28T09:16:29.699Z"
   },
   {
    "duration": 29,
    "start_time": "2022-01-28T09:16:51.747Z"
   },
   {
    "duration": 27,
    "start_time": "2022-01-28T09:17:08.707Z"
   },
   {
    "duration": 62,
    "start_time": "2022-01-28T09:17:48.859Z"
   },
   {
    "duration": 34,
    "start_time": "2022-01-28T09:21:39.555Z"
   },
   {
    "duration": 2,
    "start_time": "2022-01-28T09:22:44.819Z"
   },
   {
    "duration": 12,
    "start_time": "2022-01-28T09:23:01.171Z"
   },
   {
    "duration": 521,
    "start_time": "2022-01-28T13:06:06.456Z"
   },
   {
    "duration": 373,
    "start_time": "2022-01-28T13:06:57.461Z"
   },
   {
    "duration": 380,
    "start_time": "2022-01-28T13:07:24.520Z"
   },
   {
    "duration": 468,
    "start_time": "2022-01-28T13:07:41.229Z"
   },
   {
    "duration": 5,
    "start_time": "2022-01-28T13:07:49.944Z"
   },
   {
    "duration": 802,
    "start_time": "2022-01-28T13:08:09.008Z"
   },
   {
    "duration": 187,
    "start_time": "2022-01-28T13:08:09.813Z"
   },
   {
    "duration": 30,
    "start_time": "2022-01-28T13:08:10.004Z"
   },
   {
    "duration": 63,
    "start_time": "2022-01-28T13:08:10.037Z"
   },
   {
    "duration": 7,
    "start_time": "2022-01-28T13:08:10.103Z"
   },
   {
    "duration": 68,
    "start_time": "2022-01-28T13:08:10.113Z"
   },
   {
    "duration": 35,
    "start_time": "2022-01-28T13:08:10.183Z"
   },
   {
    "duration": 50,
    "start_time": "2022-01-28T13:08:10.222Z"
   },
   {
    "duration": 23,
    "start_time": "2022-01-28T13:08:10.276Z"
   },
   {
    "duration": 71,
    "start_time": "2022-01-28T13:08:10.302Z"
   },
   {
    "duration": 87,
    "start_time": "2022-01-28T13:08:10.376Z"
   },
   {
    "duration": 111,
    "start_time": "2022-01-28T13:08:10.466Z"
   },
   {
    "duration": 83,
    "start_time": "2022-01-28T13:08:10.580Z"
   },
   {
    "duration": 58,
    "start_time": "2022-01-28T13:08:10.666Z"
   },
   {
    "duration": 4,
    "start_time": "2022-01-28T13:08:10.727Z"
   },
   {
    "duration": 38,
    "start_time": "2022-01-28T13:08:10.733Z"
   },
   {
    "duration": 59,
    "start_time": "2022-01-28T13:08:10.773Z"
   },
   {
    "duration": 15,
    "start_time": "2022-01-28T13:08:10.859Z"
   },
   {
    "duration": 4,
    "start_time": "2022-01-28T13:08:10.876Z"
   },
   {
    "duration": 15,
    "start_time": "2022-01-28T13:08:10.882Z"
   },
   {
    "duration": 3,
    "start_time": "2022-01-28T13:08:10.899Z"
   },
   {
    "duration": 7,
    "start_time": "2022-01-28T13:08:10.904Z"
   },
   {
    "duration": 44,
    "start_time": "2022-01-28T13:08:10.918Z"
   },
   {
    "duration": 4,
    "start_time": "2022-01-28T13:08:10.966Z"
   },
   {
    "duration": 6,
    "start_time": "2022-01-28T13:08:10.973Z"
   },
   {
    "duration": 9,
    "start_time": "2022-01-28T13:08:10.982Z"
   },
   {
    "duration": 4,
    "start_time": "2022-01-28T13:08:10.994Z"
   },
   {
    "duration": 5,
    "start_time": "2022-01-28T13:08:11.001Z"
   },
   {
    "duration": 4,
    "start_time": "2022-01-28T13:08:11.009Z"
   },
   {
    "duration": 6,
    "start_time": "2022-01-28T13:08:11.059Z"
   },
   {
    "duration": 6,
    "start_time": "2022-01-28T13:08:11.067Z"
   },
   {
    "duration": 4,
    "start_time": "2022-01-28T13:08:11.076Z"
   },
   {
    "duration": 5,
    "start_time": "2022-01-28T13:08:11.083Z"
   },
   {
    "duration": 7,
    "start_time": "2022-01-28T13:08:11.091Z"
   },
   {
    "duration": 12,
    "start_time": "2022-01-28T13:08:11.100Z"
   },
   {
    "duration": 5,
    "start_time": "2022-01-28T13:08:11.114Z"
   },
   {
    "duration": 7,
    "start_time": "2022-01-28T13:08:11.160Z"
   },
   {
    "duration": 7,
    "start_time": "2022-01-28T13:08:11.169Z"
   },
   {
    "duration": 14,
    "start_time": "2022-01-28T13:08:22.776Z"
   },
   {
    "duration": 15,
    "start_time": "2022-01-28T13:08:30.164Z"
   },
   {
    "duration": 17,
    "start_time": "2022-01-28T13:08:38.392Z"
   },
   {
    "duration": 31,
    "start_time": "2022-01-28T13:08:59.929Z"
   },
   {
    "duration": 32,
    "start_time": "2022-01-28T13:09:13.816Z"
   },
   {
    "duration": 32,
    "start_time": "2022-01-28T13:11:08.184Z"
   },
   {
    "duration": 15,
    "start_time": "2022-01-28T13:17:36.828Z"
   },
   {
    "duration": 48,
    "start_time": "2022-01-28T13:17:43.108Z"
   },
   {
    "duration": 35,
    "start_time": "2022-01-28T13:20:54.328Z"
   },
   {
    "duration": 141,
    "start_time": "2022-01-28T13:26:13.793Z"
   },
   {
    "duration": 149,
    "start_time": "2022-01-28T13:26:28.584Z"
   },
   {
    "duration": 66,
    "start_time": "2022-01-28T13:26:39.163Z"
   },
   {
    "duration": 67,
    "start_time": "2022-01-28T13:27:07.834Z"
   },
   {
    "duration": 109,
    "start_time": "2022-01-28T13:29:00.536Z"
   },
   {
    "duration": 31,
    "start_time": "2022-01-28T13:32:48.048Z"
   },
   {
    "duration": 23,
    "start_time": "2022-01-28T13:32:50.169Z"
   },
   {
    "duration": 28,
    "start_time": "2022-01-28T13:32:52.245Z"
   },
   {
    "duration": 21,
    "start_time": "2022-01-28T13:32:54.547Z"
   },
   {
    "duration": 30,
    "start_time": "2022-01-28T13:32:57.340Z"
   },
   {
    "duration": 20,
    "start_time": "2022-01-28T13:32:59.656Z"
   },
   {
    "duration": 114,
    "start_time": "2022-01-28T13:44:48.908Z"
   },
   {
    "duration": 5,
    "start_time": "2022-01-28T13:46:19.352Z"
   },
   {
    "duration": 5,
    "start_time": "2022-01-28T13:46:24.668Z"
   },
   {
    "duration": 5,
    "start_time": "2022-01-28T13:47:18.844Z"
   },
   {
    "duration": 5,
    "start_time": "2022-01-28T13:48:36.680Z"
   },
   {
    "duration": 42,
    "start_time": "2022-01-28T13:48:42.696Z"
   },
   {
    "duration": 45,
    "start_time": "2022-01-28T13:50:13.732Z"
   },
   {
    "duration": 41,
    "start_time": "2022-01-28T13:50:29.708Z"
   },
   {
    "duration": 48,
    "start_time": "2022-01-28T13:50:33.936Z"
   },
   {
    "duration": 32,
    "start_time": "2022-01-28T13:50:34.252Z"
   },
   {
    "duration": 38,
    "start_time": "2022-01-28T13:50:35.396Z"
   },
   {
    "duration": 30,
    "start_time": "2022-01-28T13:50:35.668Z"
   },
   {
    "duration": 48,
    "start_time": "2022-01-28T13:50:36.864Z"
   },
   {
    "duration": 31,
    "start_time": "2022-01-28T13:50:38.833Z"
   },
   {
    "duration": 168,
    "start_time": "2022-01-28T13:52:35.548Z"
   },
   {
    "duration": 5,
    "start_time": "2022-01-28T13:52:56.376Z"
   },
   {
    "duration": 6,
    "start_time": "2022-01-28T13:53:02.044Z"
   },
   {
    "duration": 6,
    "start_time": "2022-01-28T13:54:55.832Z"
   },
   {
    "duration": 6,
    "start_time": "2022-01-28T13:57:39.064Z"
   },
   {
    "duration": 828,
    "start_time": "2022-01-28T13:57:49.204Z"
   },
   {
    "duration": 710,
    "start_time": "2022-01-28T13:58:39.013Z"
   },
   {
    "duration": 941,
    "start_time": "2022-01-28T13:59:08.615Z"
   },
   {
    "duration": 213,
    "start_time": "2022-01-28T13:59:09.559Z"
   },
   {
    "duration": 25,
    "start_time": "2022-01-28T13:59:09.780Z"
   },
   {
    "duration": 68,
    "start_time": "2022-01-28T13:59:09.808Z"
   },
   {
    "duration": 5,
    "start_time": "2022-01-28T13:59:09.879Z"
   },
   {
    "duration": 37,
    "start_time": "2022-01-28T13:59:09.886Z"
   },
   {
    "duration": 60,
    "start_time": "2022-01-28T13:59:09.928Z"
   },
   {
    "duration": 67,
    "start_time": "2022-01-28T13:59:09.992Z"
   },
   {
    "duration": 27,
    "start_time": "2022-01-28T13:59:10.063Z"
   },
   {
    "duration": 66,
    "start_time": "2022-01-28T13:59:10.093Z"
   },
   {
    "duration": 102,
    "start_time": "2022-01-28T13:59:10.161Z"
   },
   {
    "duration": 111,
    "start_time": "2022-01-28T13:59:10.266Z"
   },
   {
    "duration": 85,
    "start_time": "2022-01-28T13:59:10.379Z"
   },
   {
    "duration": 59,
    "start_time": "2022-01-28T13:59:10.466Z"
   },
   {
    "duration": 4,
    "start_time": "2022-01-28T13:59:10.527Z"
   },
   {
    "duration": 984,
    "start_time": "2022-01-28T13:59:10.534Z"
   },
   {
    "duration": -2833,
    "start_time": "2022-01-28T13:59:14.354Z"
   },
   {
    "duration": -2873,
    "start_time": "2022-01-28T13:59:14.395Z"
   },
   {
    "duration": -2878,
    "start_time": "2022-01-28T13:59:14.402Z"
   },
   {
    "duration": -2885,
    "start_time": "2022-01-28T13:59:14.410Z"
   },
   {
    "duration": -2891,
    "start_time": "2022-01-28T13:59:14.417Z"
   },
   {
    "duration": -2897,
    "start_time": "2022-01-28T13:59:14.425Z"
   },
   {
    "duration": -2905,
    "start_time": "2022-01-28T13:59:14.434Z"
   },
   {
    "duration": -2911,
    "start_time": "2022-01-28T13:59:14.441Z"
   },
   {
    "duration": -2936,
    "start_time": "2022-01-28T13:59:14.468Z"
   },
   {
    "duration": -2944,
    "start_time": "2022-01-28T13:59:14.477Z"
   },
   {
    "duration": -2949,
    "start_time": "2022-01-28T13:59:14.484Z"
   },
   {
    "duration": -2955,
    "start_time": "2022-01-28T13:59:14.491Z"
   },
   {
    "duration": -2960,
    "start_time": "2022-01-28T13:59:14.497Z"
   },
   {
    "duration": -2966,
    "start_time": "2022-01-28T13:59:14.505Z"
   },
   {
    "duration": -2971,
    "start_time": "2022-01-28T13:59:14.511Z"
   },
   {
    "duration": -2977,
    "start_time": "2022-01-28T13:59:14.518Z"
   },
   {
    "duration": -2982,
    "start_time": "2022-01-28T13:59:14.525Z"
   },
   {
    "duration": -2988,
    "start_time": "2022-01-28T13:59:14.532Z"
   },
   {
    "duration": -2994,
    "start_time": "2022-01-28T13:59:14.539Z"
   },
   {
    "duration": -3003,
    "start_time": "2022-01-28T13:59:14.550Z"
   },
   {
    "duration": -3010,
    "start_time": "2022-01-28T13:59:14.558Z"
   },
   {
    "duration": -3041,
    "start_time": "2022-01-28T13:59:14.591Z"
   },
   {
    "duration": 5,
    "start_time": "2022-01-28T13:59:24.624Z"
   },
   {
    "duration": 738,
    "start_time": "2022-01-28T13:59:41.009Z"
   },
   {
    "duration": 917,
    "start_time": "2022-01-28T14:00:33.309Z"
   },
   {
    "duration": 37,
    "start_time": "2022-01-28T14:04:19.373Z"
   },
   {
    "duration": 22,
    "start_time": "2022-01-28T14:07:01.708Z"
   },
   {
    "duration": 5,
    "start_time": "2022-01-28T14:07:51.840Z"
   },
   {
    "duration": 19,
    "start_time": "2022-01-28T14:08:09.072Z"
   },
   {
    "duration": 11,
    "start_time": "2022-01-28T14:08:14.764Z"
   },
   {
    "duration": 20,
    "start_time": "2022-01-28T14:08:28.464Z"
   },
   {
    "duration": 25,
    "start_time": "2022-01-28T14:08:31.008Z"
   },
   {
    "duration": 19,
    "start_time": "2022-01-28T14:08:31.904Z"
   },
   {
    "duration": 17,
    "start_time": "2022-01-28T14:08:32.948Z"
   },
   {
    "duration": 21,
    "start_time": "2022-01-28T14:08:33.711Z"
   },
   {
    "duration": 21,
    "start_time": "2022-01-28T14:08:35.235Z"
   },
   {
    "duration": 186,
    "start_time": "2022-01-28T14:20:01.875Z"
   },
   {
    "duration": 422,
    "start_time": "2022-01-28T14:20:38.507Z"
   },
   {
    "duration": 467,
    "start_time": "2022-01-28T14:21:13.424Z"
   },
   {
    "duration": 376,
    "start_time": "2022-01-28T14:21:49.435Z"
   },
   {
    "duration": 346,
    "start_time": "2022-01-28T14:22:09.884Z"
   },
   {
    "duration": 401,
    "start_time": "2022-01-28T14:23:46.844Z"
   },
   {
    "duration": 442,
    "start_time": "2022-01-28T14:24:04.656Z"
   },
   {
    "duration": 364,
    "start_time": "2022-01-28T14:28:59.144Z"
   },
   {
    "duration": 367,
    "start_time": "2022-01-28T14:30:29.224Z"
   },
   {
    "duration": 492,
    "start_time": "2022-01-28T14:31:12.902Z"
   },
   {
    "duration": 363,
    "start_time": "2022-01-28T14:33:31.840Z"
   },
   {
    "duration": 4,
    "start_time": "2022-01-28T14:34:09.736Z"
   },
   {
    "duration": 449,
    "start_time": "2022-01-28T14:34:19.764Z"
   },
   {
    "duration": 416,
    "start_time": "2022-01-28T14:34:27.268Z"
   },
   {
    "duration": 6,
    "start_time": "2022-01-28T14:35:10.789Z"
   },
   {
    "duration": 6,
    "start_time": "2022-01-28T14:35:15.904Z"
   },
   {
    "duration": 11,
    "start_time": "2022-01-28T14:35:32.316Z"
   },
   {
    "duration": 479,
    "start_time": "2022-01-28T14:36:03.153Z"
   },
   {
    "duration": 369,
    "start_time": "2022-01-28T14:37:11.196Z"
   },
   {
    "duration": 13,
    "start_time": "2022-01-28T14:37:51.612Z"
   },
   {
    "duration": 102,
    "start_time": "2022-01-28T14:40:58.460Z"
   },
   {
    "duration": 51,
    "start_time": "2022-01-28T14:42:04.544Z"
   },
   {
    "duration": 13,
    "start_time": "2022-01-28T14:43:00.504Z"
   },
   {
    "duration": 12,
    "start_time": "2022-01-28T14:45:26.760Z"
   },
   {
    "duration": 12,
    "start_time": "2022-01-28T14:47:08.540Z"
   },
   {
    "duration": 24,
    "start_time": "2022-01-28T14:55:31.052Z"
   },
   {
    "duration": 25,
    "start_time": "2022-01-28T14:55:51.496Z"
   },
   {
    "duration": 5,
    "start_time": "2022-01-28T15:22:12.196Z"
   },
   {
    "duration": 6,
    "start_time": "2022-01-28T15:26:28.069Z"
   },
   {
    "duration": 167,
    "start_time": "2022-01-28T15:27:22.477Z"
   },
   {
    "duration": 5,
    "start_time": "2022-01-28T15:27:28.636Z"
   },
   {
    "duration": 5,
    "start_time": "2022-01-28T15:30:00.005Z"
   },
   {
    "duration": 6,
    "start_time": "2022-01-28T15:31:11.136Z"
   },
   {
    "duration": 6,
    "start_time": "2022-01-28T15:31:19.387Z"
   },
   {
    "duration": 715,
    "start_time": "2022-01-28T15:33:57.708Z"
   },
   {
    "duration": 5827,
    "start_time": "2022-01-28T15:35:39.736Z"
   },
   {
    "duration": 936,
    "start_time": "2022-01-28T15:37:42.968Z"
   },
   {
    "duration": 22,
    "start_time": "2022-01-28T15:38:07.032Z"
   },
   {
    "duration": 1038,
    "start_time": "2022-01-28T15:38:35.424Z"
   },
   {
    "duration": 603,
    "start_time": "2022-01-28T15:38:45.294Z"
   },
   {
    "duration": 905,
    "start_time": "2022-01-28T15:38:51.662Z"
   },
   {
    "duration": 178,
    "start_time": "2022-01-28T15:38:52.570Z"
   },
   {
    "duration": 29,
    "start_time": "2022-01-28T15:38:52.751Z"
   },
   {
    "duration": 33,
    "start_time": "2022-01-28T15:38:52.783Z"
   },
   {
    "duration": 5,
    "start_time": "2022-01-28T15:38:52.819Z"
   },
   {
    "duration": 59,
    "start_time": "2022-01-28T15:38:52.826Z"
   },
   {
    "duration": 33,
    "start_time": "2022-01-28T15:38:52.887Z"
   },
   {
    "duration": 51,
    "start_time": "2022-01-28T15:38:52.924Z"
   },
   {
    "duration": 24,
    "start_time": "2022-01-28T15:38:52.978Z"
   },
   {
    "duration": 54,
    "start_time": "2022-01-28T15:38:53.005Z"
   },
   {
    "duration": 80,
    "start_time": "2022-01-28T15:38:53.062Z"
   },
   {
    "duration": 106,
    "start_time": "2022-01-28T15:38:53.160Z"
   },
   {
    "duration": 73,
    "start_time": "2022-01-28T15:38:53.268Z"
   },
   {
    "duration": 69,
    "start_time": "2022-01-28T15:38:53.344Z"
   },
   {
    "duration": 4,
    "start_time": "2022-01-28T15:38:53.415Z"
   },
   {
    "duration": 820,
    "start_time": "2022-01-28T15:38:53.422Z"
   },
   {
    "duration": -2764,
    "start_time": "2022-01-28T15:38:57.010Z"
   },
   {
    "duration": -2771,
    "start_time": "2022-01-28T15:38:57.018Z"
   },
   {
    "duration": -2777,
    "start_time": "2022-01-28T15:38:57.026Z"
   },
   {
    "duration": -2785,
    "start_time": "2022-01-28T15:38:57.035Z"
   },
   {
    "duration": -2790,
    "start_time": "2022-01-28T15:38:57.042Z"
   },
   {
    "duration": -2798,
    "start_time": "2022-01-28T15:38:57.052Z"
   },
   {
    "duration": -2804,
    "start_time": "2022-01-28T15:38:57.059Z"
   },
   {
    "duration": -2810,
    "start_time": "2022-01-28T15:38:57.067Z"
   },
   {
    "duration": -2815,
    "start_time": "2022-01-28T15:38:57.073Z"
   },
   {
    "duration": -2820,
    "start_time": "2022-01-28T15:38:57.080Z"
   },
   {
    "duration": -2826,
    "start_time": "2022-01-28T15:38:57.087Z"
   },
   {
    "duration": -2831,
    "start_time": "2022-01-28T15:38:57.094Z"
   },
   {
    "duration": -2837,
    "start_time": "2022-01-28T15:38:57.101Z"
   },
   {
    "duration": -2860,
    "start_time": "2022-01-28T15:38:57.126Z"
   },
   {
    "duration": -2864,
    "start_time": "2022-01-28T15:38:57.132Z"
   },
   {
    "duration": -2871,
    "start_time": "2022-01-28T15:38:57.140Z"
   },
   {
    "duration": -2876,
    "start_time": "2022-01-28T15:38:57.147Z"
   },
   {
    "duration": -2882,
    "start_time": "2022-01-28T15:38:57.154Z"
   },
   {
    "duration": -2886,
    "start_time": "2022-01-28T15:38:57.160Z"
   },
   {
    "duration": -2893,
    "start_time": "2022-01-28T15:38:57.168Z"
   },
   {
    "duration": -2897,
    "start_time": "2022-01-28T15:38:57.174Z"
   },
   {
    "duration": -2902,
    "start_time": "2022-01-28T15:38:57.181Z"
   },
   {
    "duration": 15,
    "start_time": "2022-01-28T15:39:02.146Z"
   },
   {
    "duration": 12,
    "start_time": "2022-01-28T15:39:03.442Z"
   },
   {
    "duration": 618,
    "start_time": "2022-01-28T15:39:05.846Z"
   },
   {
    "duration": 28,
    "start_time": "2022-01-28T15:39:47.138Z"
   },
   {
    "duration": 2422,
    "start_time": "2022-01-28T15:40:16.683Z"
   },
   {
    "duration": 28,
    "start_time": "2022-01-28T15:40:38.314Z"
   },
   {
    "duration": 747,
    "start_time": "2022-01-28T15:40:52.866Z"
   },
   {
    "duration": 31,
    "start_time": "2022-01-28T15:41:34.022Z"
   },
   {
    "duration": 9917,
    "start_time": "2022-01-28T15:42:45.814Z"
   },
   {
    "duration": 31,
    "start_time": "2022-01-28T15:43:16.902Z"
   },
   {
    "duration": 641,
    "start_time": "2022-01-28T15:43:51.827Z"
   },
   {
    "duration": 33,
    "start_time": "2022-01-28T15:44:10.830Z"
   },
   {
    "duration": 636,
    "start_time": "2022-01-28T15:45:02.186Z"
   },
   {
    "duration": 31,
    "start_time": "2022-01-28T15:45:17.447Z"
   },
   {
    "duration": 23,
    "start_time": "2022-01-28T15:45:23.654Z"
   },
   {
    "duration": 10034,
    "start_time": "2022-01-28T15:46:24.162Z"
   },
   {
    "duration": 45,
    "start_time": "2022-01-28T15:47:23.423Z"
   },
   {
    "duration": 28,
    "start_time": "2022-01-28T15:47:44.862Z"
   },
   {
    "duration": 29,
    "start_time": "2022-01-28T15:48:22.510Z"
   },
   {
    "duration": 32,
    "start_time": "2022-01-28T15:48:40.839Z"
   },
   {
    "duration": 28,
    "start_time": "2022-01-28T15:48:56.919Z"
   },
   {
    "duration": 29,
    "start_time": "2022-01-28T15:49:20.139Z"
   },
   {
    "duration": 5,
    "start_time": "2022-01-28T15:50:39.151Z"
   },
   {
    "duration": 3,
    "start_time": "2022-01-28T15:50:59.799Z"
   },
   {
    "duration": 4,
    "start_time": "2022-01-28T15:52:12.566Z"
   },
   {
    "duration": 27,
    "start_time": "2022-01-28T15:52:47.359Z"
   },
   {
    "duration": 18,
    "start_time": "2022-01-28T15:52:51.907Z"
   },
   {
    "duration": 28,
    "start_time": "2022-01-28T15:53:05.279Z"
   },
   {
    "duration": 19,
    "start_time": "2022-01-28T15:53:10.815Z"
   },
   {
    "duration": 19,
    "start_time": "2022-01-28T15:53:15.531Z"
   },
   {
    "duration": 29,
    "start_time": "2022-01-28T15:57:45.886Z"
   },
   {
    "duration": 35,
    "start_time": "2022-01-28T15:58:02.143Z"
   },
   {
    "duration": 344,
    "start_time": "2022-01-28T15:59:09.159Z"
   },
   {
    "duration": 7,
    "start_time": "2022-01-28T15:59:22.546Z"
   },
   {
    "duration": 372,
    "start_time": "2022-01-28T15:59:38.487Z"
   },
   {
    "duration": 366,
    "start_time": "2022-01-28T15:59:45.567Z"
   },
   {
    "duration": 7,
    "start_time": "2022-01-28T15:59:50.771Z"
   },
   {
    "duration": 357,
    "start_time": "2022-01-28T16:00:16.631Z"
   },
   {
    "duration": 371,
    "start_time": "2022-01-28T16:00:21.603Z"
   },
   {
    "duration": 7,
    "start_time": "2022-01-28T16:00:27.707Z"
   },
   {
    "duration": 12,
    "start_time": "2022-01-28T16:00:35.783Z"
   },
   {
    "duration": 4,
    "start_time": "2022-01-28T16:00:53.827Z"
   },
   {
    "duration": 41,
    "start_time": "2022-01-28T16:01:23.267Z"
   },
   {
    "duration": 368,
    "start_time": "2022-01-28T16:02:33.519Z"
   },
   {
    "duration": 354,
    "start_time": "2022-01-28T16:02:41.915Z"
   },
   {
    "duration": 7,
    "start_time": "2022-01-28T16:02:52.615Z"
   },
   {
    "duration": 6,
    "start_time": "2022-01-28T16:03:05.487Z"
   },
   {
    "duration": 5,
    "start_time": "2022-01-28T16:03:56.571Z"
   },
   {
    "duration": 357,
    "start_time": "2022-01-28T16:04:28.675Z"
   },
   {
    "duration": 6,
    "start_time": "2022-01-28T16:04:33.043Z"
   },
   {
    "duration": 6,
    "start_time": "2022-01-28T16:05:14.695Z"
   },
   {
    "duration": 6,
    "start_time": "2022-01-28T16:05:23.301Z"
   },
   {
    "duration": 36,
    "start_time": "2022-01-28T16:07:09.415Z"
   },
   {
    "duration": 591,
    "start_time": "2022-01-28T16:08:00.655Z"
   },
   {
    "duration": 35,
    "start_time": "2022-01-28T16:08:21.559Z"
   },
   {
    "duration": 5,
    "start_time": "2022-01-28T16:08:33.759Z"
   },
   {
    "duration": 353,
    "start_time": "2022-01-28T16:08:54.479Z"
   },
   {
    "duration": 1075,
    "start_time": "2022-01-28T16:09:16.815Z"
   },
   {
    "duration": 5,
    "start_time": "2022-01-28T16:09:30.255Z"
   },
   {
    "duration": 34,
    "start_time": "2022-01-28T16:09:36.724Z"
   },
   {
    "duration": 30,
    "start_time": "2022-01-28T16:10:51.337Z"
   },
   {
    "duration": 32,
    "start_time": "2022-01-28T16:11:35.635Z"
   },
   {
    "duration": 603,
    "start_time": "2022-01-28T16:14:25.652Z"
   },
   {
    "duration": 143,
    "start_time": "2022-01-28T16:15:29.676Z"
   },
   {
    "duration": 131,
    "start_time": "2022-01-28T16:16:12.964Z"
   },
   {
    "duration": 119,
    "start_time": "2022-01-28T16:16:16.095Z"
   },
   {
    "duration": 792,
    "start_time": "2022-01-28T16:16:40.684Z"
   },
   {
    "duration": 176,
    "start_time": "2022-01-28T16:16:41.478Z"
   },
   {
    "duration": 26,
    "start_time": "2022-01-28T16:16:41.657Z"
   },
   {
    "duration": 34,
    "start_time": "2022-01-28T16:16:41.686Z"
   },
   {
    "duration": 6,
    "start_time": "2022-01-28T16:16:41.722Z"
   },
   {
    "duration": 29,
    "start_time": "2022-01-28T16:16:41.759Z"
   },
   {
    "duration": 35,
    "start_time": "2022-01-28T16:16:41.791Z"
   },
   {
    "duration": 32,
    "start_time": "2022-01-28T16:16:41.862Z"
   },
   {
    "duration": 24,
    "start_time": "2022-01-28T16:16:41.898Z"
   },
   {
    "duration": 62,
    "start_time": "2022-01-28T16:16:41.924Z"
   },
   {
    "duration": 105,
    "start_time": "2022-01-28T16:16:41.988Z"
   },
   {
    "duration": 107,
    "start_time": "2022-01-28T16:16:42.096Z"
   },
   {
    "duration": 82,
    "start_time": "2022-01-28T16:16:42.206Z"
   },
   {
    "duration": 71,
    "start_time": "2022-01-28T16:16:42.290Z"
   },
   {
    "duration": 4,
    "start_time": "2022-01-28T16:16:42.363Z"
   },
   {
    "duration": 805,
    "start_time": "2022-01-28T16:16:42.369Z"
   },
   {
    "duration": -4380,
    "start_time": "2022-01-28T16:16:47.557Z"
   },
   {
    "duration": -4387,
    "start_time": "2022-01-28T16:16:47.565Z"
   },
   {
    "duration": -4392,
    "start_time": "2022-01-28T16:16:47.571Z"
   },
   {
    "duration": -4398,
    "start_time": "2022-01-28T16:16:47.579Z"
   },
   {
    "duration": -4402,
    "start_time": "2022-01-28T16:16:47.585Z"
   },
   {
    "duration": -4408,
    "start_time": "2022-01-28T16:16:47.592Z"
   },
   {
    "duration": -4414,
    "start_time": "2022-01-28T16:16:47.599Z"
   },
   {
    "duration": -4420,
    "start_time": "2022-01-28T16:16:47.606Z"
   },
   {
    "duration": -4426,
    "start_time": "2022-01-28T16:16:47.614Z"
   },
   {
    "duration": -4447,
    "start_time": "2022-01-28T16:16:47.636Z"
   },
   {
    "duration": -4452,
    "start_time": "2022-01-28T16:16:47.642Z"
   },
   {
    "duration": -4459,
    "start_time": "2022-01-28T16:16:47.650Z"
   },
   {
    "duration": -4464,
    "start_time": "2022-01-28T16:16:47.657Z"
   },
   {
    "duration": -4471,
    "start_time": "2022-01-28T16:16:47.665Z"
   },
   {
    "duration": -4476,
    "start_time": "2022-01-28T16:16:47.671Z"
   },
   {
    "duration": -4659,
    "start_time": "2022-01-28T16:16:47.856Z"
   },
   {
    "duration": -4664,
    "start_time": "2022-01-28T16:16:47.862Z"
   },
   {
    "duration": -4673,
    "start_time": "2022-01-28T16:16:47.872Z"
   },
   {
    "duration": -4678,
    "start_time": "2022-01-28T16:16:47.878Z"
   },
   {
    "duration": -4684,
    "start_time": "2022-01-28T16:16:47.885Z"
   },
   {
    "duration": -4703,
    "start_time": "2022-01-28T16:16:47.906Z"
   },
   {
    "duration": -4709,
    "start_time": "2022-01-28T16:16:47.913Z"
   },
   {
    "duration": 116,
    "start_time": "2022-01-28T16:16:54.706Z"
   },
   {
    "duration": 492,
    "start_time": "2022-01-28T16:17:13.092Z"
   },
   {
    "duration": 761,
    "start_time": "2022-01-28T16:17:46.698Z"
   },
   {
    "duration": 181,
    "start_time": "2022-01-28T16:17:47.462Z"
   },
   {
    "duration": 26,
    "start_time": "2022-01-28T16:17:47.646Z"
   },
   {
    "duration": 37,
    "start_time": "2022-01-28T16:17:47.675Z"
   },
   {
    "duration": 7,
    "start_time": "2022-01-28T16:17:47.715Z"
   },
   {
    "duration": 68,
    "start_time": "2022-01-28T16:17:47.725Z"
   },
   {
    "duration": 33,
    "start_time": "2022-01-28T16:17:47.796Z"
   },
   {
    "duration": 57,
    "start_time": "2022-01-28T16:17:47.832Z"
   },
   {
    "duration": 25,
    "start_time": "2022-01-28T16:17:47.893Z"
   },
   {
    "duration": 56,
    "start_time": "2022-01-28T16:17:47.920Z"
   },
   {
    "duration": 94,
    "start_time": "2022-01-28T16:17:47.978Z"
   },
   {
    "duration": 110,
    "start_time": "2022-01-28T16:17:48.074Z"
   },
   {
    "duration": 82,
    "start_time": "2022-01-28T16:17:48.186Z"
   },
   {
    "duration": 59,
    "start_time": "2022-01-28T16:17:48.271Z"
   },
   {
    "duration": 4,
    "start_time": "2022-01-28T16:17:48.332Z"
   },
   {
    "duration": 967,
    "start_time": "2022-01-28T16:17:48.339Z"
   },
   {
    "duration": -2737,
    "start_time": "2022-01-28T16:17:52.046Z"
   },
   {
    "duration": -2815,
    "start_time": "2022-01-28T16:17:52.125Z"
   },
   {
    "duration": -2823,
    "start_time": "2022-01-28T16:17:52.135Z"
   },
   {
    "duration": -2830,
    "start_time": "2022-01-28T16:17:52.143Z"
   },
   {
    "duration": -2839,
    "start_time": "2022-01-28T16:17:52.154Z"
   },
   {
    "duration": -2846,
    "start_time": "2022-01-28T16:17:52.162Z"
   },
   {
    "duration": -2865,
    "start_time": "2022-01-28T16:17:52.183Z"
   },
   {
    "duration": -2874,
    "start_time": "2022-01-28T16:17:52.193Z"
   },
   {
    "duration": -2888,
    "start_time": "2022-01-28T16:17:52.209Z"
   },
   {
    "duration": -2910,
    "start_time": "2022-01-28T16:17:52.233Z"
   },
   {
    "duration": -2919,
    "start_time": "2022-01-28T16:17:52.243Z"
   },
   {
    "duration": -2924,
    "start_time": "2022-01-28T16:17:52.249Z"
   },
   {
    "duration": -2930,
    "start_time": "2022-01-28T16:17:52.257Z"
   },
   {
    "duration": -2934,
    "start_time": "2022-01-28T16:17:52.263Z"
   },
   {
    "duration": -2940,
    "start_time": "2022-01-28T16:17:52.270Z"
   },
   {
    "duration": -2946,
    "start_time": "2022-01-28T16:17:52.277Z"
   },
   {
    "duration": -2953,
    "start_time": "2022-01-28T16:17:52.286Z"
   },
   {
    "duration": -2958,
    "start_time": "2022-01-28T16:17:52.292Z"
   },
   {
    "duration": -2964,
    "start_time": "2022-01-28T16:17:52.299Z"
   },
   {
    "duration": -2969,
    "start_time": "2022-01-28T16:17:52.306Z"
   },
   {
    "duration": -2975,
    "start_time": "2022-01-28T16:17:52.313Z"
   },
   {
    "duration": -2979,
    "start_time": "2022-01-28T16:17:52.319Z"
   },
   {
    "duration": 425,
    "start_time": "2022-01-28T16:17:53.570Z"
   },
   {
    "duration": 3,
    "start_time": "2022-01-28T16:18:01.386Z"
   },
   {
    "duration": 448,
    "start_time": "2022-01-28T16:18:11.906Z"
   },
   {
    "duration": 368,
    "start_time": "2022-01-28T16:18:15.718Z"
   },
   {
    "duration": 416,
    "start_time": "2022-01-28T16:18:36.766Z"
   },
   {
    "duration": 349,
    "start_time": "2022-01-28T16:18:41.398Z"
   },
   {
    "duration": 363,
    "start_time": "2022-01-28T16:19:08.962Z"
   },
   {
    "duration": 17,
    "start_time": "2022-01-28T16:19:18.674Z"
   },
   {
    "duration": 14,
    "start_time": "2022-01-28T16:19:22.462Z"
   },
   {
    "duration": 6,
    "start_time": "2022-01-28T16:19:25.670Z"
   },
   {
    "duration": 28,
    "start_time": "2022-01-28T16:19:28.214Z"
   },
   {
    "duration": 22,
    "start_time": "2022-01-28T16:19:31.179Z"
   },
   {
    "duration": 27,
    "start_time": "2022-01-28T16:19:34.354Z"
   },
   {
    "duration": 19,
    "start_time": "2022-01-28T16:19:36.426Z"
   },
   {
    "duration": 11,
    "start_time": "2022-01-28T16:19:40.234Z"
   },
   {
    "duration": 474,
    "start_time": "2022-01-28T16:19:46.284Z"
   },
   {
    "duration": 489,
    "start_time": "2022-01-28T16:20:02.630Z"
   },
   {
    "duration": 36,
    "start_time": "2022-01-28T16:20:18.671Z"
   },
   {
    "duration": 31,
    "start_time": "2022-01-28T16:21:02.235Z"
   },
   {
    "duration": 32,
    "start_time": "2022-01-28T16:21:20.943Z"
   },
   {
    "duration": 7,
    "start_time": "2022-01-28T16:21:26.230Z"
   },
   {
    "duration": 6,
    "start_time": "2022-01-28T16:21:38.602Z"
   },
   {
    "duration": 17,
    "start_time": "2022-01-28T16:22:25.884Z"
   },
   {
    "duration": 8,
    "start_time": "2022-01-28T16:22:43.574Z"
   },
   {
    "duration": 279,
    "start_time": "2022-01-29T01:26:48.181Z"
   },
   {
    "duration": 605,
    "start_time": "2022-01-29T01:26:57.520Z"
   },
   {
    "duration": 663,
    "start_time": "2022-01-29T01:27:07.985Z"
   },
   {
    "duration": 160,
    "start_time": "2022-01-29T01:27:08.650Z"
   },
   {
    "duration": 18,
    "start_time": "2022-01-29T01:27:08.813Z"
   },
   {
    "duration": 28,
    "start_time": "2022-01-29T01:27:08.833Z"
   },
   {
    "duration": 4,
    "start_time": "2022-01-29T01:27:08.863Z"
   },
   {
    "duration": 53,
    "start_time": "2022-01-29T01:27:08.869Z"
   },
   {
    "duration": 30,
    "start_time": "2022-01-29T01:27:08.924Z"
   },
   {
    "duration": 26,
    "start_time": "2022-01-29T01:27:08.958Z"
   },
   {
    "duration": 37,
    "start_time": "2022-01-29T01:27:08.987Z"
   },
   {
    "duration": 27,
    "start_time": "2022-01-29T01:27:09.026Z"
   },
   {
    "duration": 91,
    "start_time": "2022-01-29T01:27:09.055Z"
   },
   {
    "duration": 93,
    "start_time": "2022-01-29T01:27:09.148Z"
   },
   {
    "duration": 68,
    "start_time": "2022-01-29T01:27:09.243Z"
   },
   {
    "duration": 45,
    "start_time": "2022-01-29T01:27:09.314Z"
   },
   {
    "duration": 3,
    "start_time": "2022-01-29T01:27:09.361Z"
   },
   {
    "duration": 559,
    "start_time": "2022-01-29T01:27:09.366Z"
   },
   {
    "duration": -2882,
    "start_time": "2022-01-29T01:27:12.810Z"
   },
   {
    "duration": -2909,
    "start_time": "2022-01-29T01:27:12.838Z"
   },
   {
    "duration": -2914,
    "start_time": "2022-01-29T01:27:12.845Z"
   },
   {
    "duration": -2920,
    "start_time": "2022-01-29T01:27:12.852Z"
   },
   {
    "duration": -2925,
    "start_time": "2022-01-29T01:27:12.858Z"
   },
   {
    "duration": -2931,
    "start_time": "2022-01-29T01:27:12.865Z"
   },
   {
    "duration": -2936,
    "start_time": "2022-01-29T01:27:12.871Z"
   },
   {
    "duration": -2942,
    "start_time": "2022-01-29T01:27:12.878Z"
   },
   {
    "duration": -2946,
    "start_time": "2022-01-29T01:27:12.884Z"
   },
   {
    "duration": -2963,
    "start_time": "2022-01-29T01:27:12.902Z"
   },
   {
    "duration": -2968,
    "start_time": "2022-01-29T01:27:12.908Z"
   },
   {
    "duration": -2975,
    "start_time": "2022-01-29T01:27:12.916Z"
   },
   {
    "duration": -2980,
    "start_time": "2022-01-29T01:27:12.922Z"
   },
   {
    "duration": -2986,
    "start_time": "2022-01-29T01:27:12.929Z"
   },
   {
    "duration": -3027,
    "start_time": "2022-01-29T01:27:12.971Z"
   },
   {
    "duration": -3032,
    "start_time": "2022-01-29T01:27:12.977Z"
   },
   {
    "duration": -3037,
    "start_time": "2022-01-29T01:27:12.983Z"
   },
   {
    "duration": -3044,
    "start_time": "2022-01-29T01:27:12.991Z"
   },
   {
    "duration": -3048,
    "start_time": "2022-01-29T01:27:12.997Z"
   },
   {
    "duration": -3054,
    "start_time": "2022-01-29T01:27:13.004Z"
   },
   {
    "duration": -3059,
    "start_time": "2022-01-29T01:27:13.010Z"
   },
   {
    "duration": -3065,
    "start_time": "2022-01-29T01:27:13.017Z"
   },
   {
    "duration": 3,
    "start_time": "2022-01-29T01:27:22.591Z"
   },
   {
    "duration": 160,
    "start_time": "2022-01-29T01:27:27.599Z"
   },
   {
    "duration": 11,
    "start_time": "2022-01-29T01:27:31.553Z"
   },
   {
    "duration": 27,
    "start_time": "2022-01-29T01:27:36.661Z"
   },
   {
    "duration": 5,
    "start_time": "2022-01-29T01:27:43.479Z"
   },
   {
    "duration": 4,
    "start_time": "2022-01-29T01:30:00.364Z"
   },
   {
    "duration": 19,
    "start_time": "2022-01-29T01:30:03.518Z"
   },
   {
    "duration": 26,
    "start_time": "2022-01-29T01:30:08.239Z"
   },
   {
    "duration": 25,
    "start_time": "2022-01-29T01:30:14.128Z"
   },
   {
    "duration": 26,
    "start_time": "2022-01-29T01:30:56.810Z"
   },
   {
    "duration": 23,
    "start_time": "2022-01-29T01:30:59.895Z"
   },
   {
    "duration": 24,
    "start_time": "2022-01-29T01:31:02.794Z"
   },
   {
    "duration": 255,
    "start_time": "2022-01-29T01:38:21.116Z"
   },
   {
    "duration": 233,
    "start_time": "2022-01-29T01:38:57.304Z"
   },
   {
    "duration": 26,
    "start_time": "2022-01-29T01:39:06.922Z"
   },
   {
    "duration": 270,
    "start_time": "2022-01-29T01:39:19.820Z"
   },
   {
    "duration": 227,
    "start_time": "2022-01-29T01:39:45.246Z"
   },
   {
    "duration": 25,
    "start_time": "2022-01-29T01:39:49.289Z"
   },
   {
    "duration": 236,
    "start_time": "2022-01-29T01:40:06.838Z"
   },
   {
    "duration": 236,
    "start_time": "2022-01-29T01:40:25.844Z"
   },
   {
    "duration": 24,
    "start_time": "2022-01-29T01:40:29.218Z"
   },
   {
    "duration": 57,
    "start_time": "2022-01-29T01:40:36.738Z"
   },
   {
    "duration": 71,
    "start_time": "2022-01-29T01:40:43.374Z"
   },
   {
    "duration": 56,
    "start_time": "2022-01-29T01:40:47.794Z"
   },
   {
    "duration": 42,
    "start_time": "2022-01-29T01:41:47.316Z"
   },
   {
    "duration": 4,
    "start_time": "2022-01-29T01:43:13.582Z"
   },
   {
    "duration": 3,
    "start_time": "2022-01-29T01:43:59.070Z"
   },
   {
    "duration": 506,
    "start_time": "2022-01-29T01:44:22.482Z"
   },
   {
    "duration": 482,
    "start_time": "2022-01-29T01:44:41.738Z"
   },
   {
    "duration": 3,
    "start_time": "2022-01-29T01:45:54.166Z"
   },
   {
    "duration": 561,
    "start_time": "2022-01-29T01:45:56.862Z"
   },
   {
    "duration": 4,
    "start_time": "2022-01-29T01:47:13.524Z"
   },
   {
    "duration": 487,
    "start_time": "2022-01-29T01:47:18.054Z"
   },
   {
    "duration": 517,
    "start_time": "2022-01-29T01:47:30.018Z"
   },
   {
    "duration": 3,
    "start_time": "2022-01-29T01:47:33.670Z"
   },
   {
    "duration": 499,
    "start_time": "2022-01-29T01:47:36.544Z"
   },
   {
    "duration": 660,
    "start_time": "2022-01-29T01:47:57.812Z"
   },
   {
    "duration": 217,
    "start_time": "2022-01-29T01:47:58.474Z"
   },
   {
    "duration": 33,
    "start_time": "2022-01-29T01:47:58.695Z"
   },
   {
    "duration": 47,
    "start_time": "2022-01-29T01:47:58.731Z"
   },
   {
    "duration": 28,
    "start_time": "2022-01-29T01:47:58.781Z"
   },
   {
    "duration": 31,
    "start_time": "2022-01-29T01:47:58.812Z"
   },
   {
    "duration": 64,
    "start_time": "2022-01-29T01:47:58.846Z"
   },
   {
    "duration": 37,
    "start_time": "2022-01-29T01:47:58.914Z"
   },
   {
    "duration": 271,
    "start_time": "2022-01-29T01:47:58.954Z"
   },
   {
    "duration": 23,
    "start_time": "2022-01-29T01:47:59.227Z"
   },
   {
    "duration": 76,
    "start_time": "2022-01-29T01:47:59.252Z"
   },
   {
    "duration": 66,
    "start_time": "2022-01-29T01:47:59.330Z"
   },
   {
    "duration": 59,
    "start_time": "2022-01-29T01:47:59.398Z"
   },
   {
    "duration": 58,
    "start_time": "2022-01-29T01:47:59.459Z"
   },
   {
    "duration": 3,
    "start_time": "2022-01-29T01:47:59.519Z"
   },
   {
    "duration": 569,
    "start_time": "2022-01-29T01:47:59.524Z"
   },
   {
    "duration": -2832,
    "start_time": "2022-01-29T01:48:02.929Z"
   },
   {
    "duration": -2839,
    "start_time": "2022-01-29T01:48:02.937Z"
   },
   {
    "duration": -2845,
    "start_time": "2022-01-29T01:48:02.945Z"
   },
   {
    "duration": -2849,
    "start_time": "2022-01-29T01:48:02.951Z"
   },
   {
    "duration": -2854,
    "start_time": "2022-01-29T01:48:02.958Z"
   },
   {
    "duration": -2859,
    "start_time": "2022-01-29T01:48:02.964Z"
   },
   {
    "duration": -2875,
    "start_time": "2022-01-29T01:48:02.983Z"
   },
   {
    "duration": -2880,
    "start_time": "2022-01-29T01:48:02.989Z"
   },
   {
    "duration": -2885,
    "start_time": "2022-01-29T01:48:02.996Z"
   },
   {
    "duration": -2889,
    "start_time": "2022-01-29T01:48:03.002Z"
   },
   {
    "duration": -2895,
    "start_time": "2022-01-29T01:48:03.009Z"
   },
   {
    "duration": -2899,
    "start_time": "2022-01-29T01:48:03.015Z"
   },
   {
    "duration": -2905,
    "start_time": "2022-01-29T01:48:03.022Z"
   },
   {
    "duration": -2909,
    "start_time": "2022-01-29T01:48:03.028Z"
   },
   {
    "duration": -2914,
    "start_time": "2022-01-29T01:48:03.035Z"
   },
   {
    "duration": -2919,
    "start_time": "2022-01-29T01:48:03.041Z"
   },
   {
    "duration": -2924,
    "start_time": "2022-01-29T01:48:03.048Z"
   },
   {
    "duration": -2928,
    "start_time": "2022-01-29T01:48:03.054Z"
   },
   {
    "duration": -2933,
    "start_time": "2022-01-29T01:48:03.060Z"
   },
   {
    "duration": -2937,
    "start_time": "2022-01-29T01:48:03.066Z"
   },
   {
    "duration": -2943,
    "start_time": "2022-01-29T01:48:03.073Z"
   },
   {
    "duration": -2960,
    "start_time": "2022-01-29T01:48:03.092Z"
   },
   {
    "duration": 3,
    "start_time": "2022-01-29T01:48:12.238Z"
   },
   {
    "duration": 669,
    "start_time": "2022-01-29T01:48:14.945Z"
   },
   {
    "duration": 499,
    "start_time": "2022-01-29T01:48:29.879Z"
   },
   {
    "duration": 518,
    "start_time": "2022-01-29T01:48:56.991Z"
   },
   {
    "duration": 4,
    "start_time": "2022-01-29T01:49:08.367Z"
   },
   {
    "duration": 471,
    "start_time": "2022-01-29T01:49:10.411Z"
   },
   {
    "duration": 3,
    "start_time": "2022-01-29T01:51:00.190Z"
   },
   {
    "duration": 477,
    "start_time": "2022-01-29T01:51:11.319Z"
   },
   {
    "duration": 3,
    "start_time": "2022-01-29T01:51:35.567Z"
   },
   {
    "duration": 430,
    "start_time": "2022-01-29T01:51:42.071Z"
   },
   {
    "duration": 463,
    "start_time": "2022-01-29T01:52:21.004Z"
   },
   {
    "duration": 11,
    "start_time": "2022-01-29T01:55:44.951Z"
   },
   {
    "duration": 11,
    "start_time": "2022-01-29T01:55:49.639Z"
   },
   {
    "duration": 11,
    "start_time": "2022-01-29T01:56:30.191Z"
   },
   {
    "duration": 42,
    "start_time": "2022-01-29T01:56:35.061Z"
   },
   {
    "duration": 13,
    "start_time": "2022-01-29T01:57:01.319Z"
   },
   {
    "duration": 16,
    "start_time": "2022-01-29T01:57:12.909Z"
   },
   {
    "duration": 43,
    "start_time": "2022-01-29T01:57:17.727Z"
   },
   {
    "duration": 17,
    "start_time": "2022-01-29T01:59:03.343Z"
   },
   {
    "duration": 42,
    "start_time": "2022-01-29T01:59:08.087Z"
   },
   {
    "duration": 11,
    "start_time": "2022-01-29T02:00:28.351Z"
   },
   {
    "duration": 12,
    "start_time": "2022-01-29T02:01:15.523Z"
   },
   {
    "duration": 12,
    "start_time": "2022-01-29T02:01:40.906Z"
   },
   {
    "duration": 5,
    "start_time": "2022-01-29T02:06:07.258Z"
   },
   {
    "duration": 17,
    "start_time": "2022-01-29T02:06:12.643Z"
   },
   {
    "duration": 16,
    "start_time": "2022-01-29T02:06:15.750Z"
   },
   {
    "duration": 18,
    "start_time": "2022-01-29T02:06:16.374Z"
   },
   {
    "duration": 16,
    "start_time": "2022-01-29T02:06:16.927Z"
   },
   {
    "duration": 18,
    "start_time": "2022-01-29T02:06:17.522Z"
   },
   {
    "duration": 17,
    "start_time": "2022-01-29T02:06:18.202Z"
   },
   {
    "duration": 9,
    "start_time": "2022-01-29T02:06:31.338Z"
   },
   {
    "duration": 5,
    "start_time": "2022-01-29T02:08:10.946Z"
   },
   {
    "duration": 258,
    "start_time": "2022-01-29T02:08:18.694Z"
   },
   {
    "duration": 12,
    "start_time": "2022-01-29T02:08:30.426Z"
   },
   {
    "duration": 10,
    "start_time": "2022-01-29T02:08:31.798Z"
   },
   {
    "duration": 5,
    "start_time": "2022-01-29T02:08:35.806Z"
   },
   {
    "duration": 25,
    "start_time": "2022-01-29T02:08:38.546Z"
   },
   {
    "duration": 16,
    "start_time": "2022-01-29T02:08:42.990Z"
   },
   {
    "duration": 26,
    "start_time": "2022-01-29T02:08:46.578Z"
   },
   {
    "duration": 16,
    "start_time": "2022-01-29T02:08:49.026Z"
   },
   {
    "duration": 28,
    "start_time": "2022-01-29T02:09:59.998Z"
   },
   {
    "duration": 16,
    "start_time": "2022-01-29T02:10:01.592Z"
   },
   {
    "duration": 26,
    "start_time": "2022-01-29T02:10:08.914Z"
   },
   {
    "duration": 19,
    "start_time": "2022-01-29T02:10:09.582Z"
   },
   {
    "duration": 23,
    "start_time": "2022-01-29T02:10:10.250Z"
   },
   {
    "duration": 16,
    "start_time": "2022-01-29T02:10:10.958Z"
   },
   {
    "duration": 25,
    "start_time": "2022-01-29T02:11:12.838Z"
   },
   {
    "duration": 6,
    "start_time": "2022-01-29T02:11:16.754Z"
   },
   {
    "duration": 18,
    "start_time": "2022-01-29T02:11:23.762Z"
   },
   {
    "duration": 5,
    "start_time": "2022-01-29T02:11:26.650Z"
   },
   {
    "duration": 641,
    "start_time": "2022-01-29T02:12:26.073Z"
   },
   {
    "duration": 159,
    "start_time": "2022-01-29T02:12:26.716Z"
   },
   {
    "duration": 18,
    "start_time": "2022-01-29T02:12:26.878Z"
   },
   {
    "duration": 30,
    "start_time": "2022-01-29T02:12:26.899Z"
   },
   {
    "duration": 4,
    "start_time": "2022-01-29T02:12:26.932Z"
   },
   {
    "duration": 27,
    "start_time": "2022-01-29T02:12:26.939Z"
   },
   {
    "duration": 53,
    "start_time": "2022-01-29T02:12:26.968Z"
   },
   {
    "duration": 26,
    "start_time": "2022-01-29T02:12:27.025Z"
   },
   {
    "duration": 285,
    "start_time": "2022-01-29T02:12:27.054Z"
   },
   {
    "duration": 27,
    "start_time": "2022-01-29T02:12:27.341Z"
   },
   {
    "duration": 79,
    "start_time": "2022-01-29T02:12:27.370Z"
   },
   {
    "duration": 77,
    "start_time": "2022-01-29T02:12:27.451Z"
   },
   {
    "duration": 56,
    "start_time": "2022-01-29T02:12:27.530Z"
   },
   {
    "duration": 60,
    "start_time": "2022-01-29T02:12:27.589Z"
   },
   {
    "duration": 15,
    "start_time": "2022-01-29T02:12:27.652Z"
   },
   {
    "duration": 35,
    "start_time": "2022-01-29T02:12:27.670Z"
   },
   {
    "duration": 62,
    "start_time": "2022-01-29T02:12:27.707Z"
   },
   {
    "duration": 30,
    "start_time": "2022-01-29T02:12:27.771Z"
   },
   {
    "duration": 22,
    "start_time": "2022-01-29T02:12:27.803Z"
   },
   {
    "duration": 5,
    "start_time": "2022-01-29T02:12:27.826Z"
   },
   {
    "duration": 36,
    "start_time": "2022-01-29T02:12:27.832Z"
   },
   {
    "duration": 17,
    "start_time": "2022-01-29T02:12:27.870Z"
   },
   {
    "duration": 23,
    "start_time": "2022-01-29T02:12:27.891Z"
   },
   {
    "duration": 16,
    "start_time": "2022-01-29T02:12:27.916Z"
   },
   {
    "duration": 18,
    "start_time": "2022-01-29T02:12:27.934Z"
   },
   {
    "duration": 17,
    "start_time": "2022-01-29T02:12:27.954Z"
   },
   {
    "duration": 38,
    "start_time": "2022-01-29T02:12:27.973Z"
   },
   {
    "duration": 33,
    "start_time": "2022-01-29T02:12:28.012Z"
   },
   {
    "duration": 13,
    "start_time": "2022-01-29T02:12:28.047Z"
   },
   {
    "duration": 5,
    "start_time": "2022-01-29T02:12:28.062Z"
   },
   {
    "duration": 39,
    "start_time": "2022-01-29T02:12:28.069Z"
   },
   {
    "duration": 16,
    "start_time": "2022-01-29T02:12:28.110Z"
   },
   {
    "duration": 22,
    "start_time": "2022-01-29T02:12:28.128Z"
   },
   {
    "duration": 14,
    "start_time": "2022-01-29T02:12:28.152Z"
   },
   {
    "duration": 50,
    "start_time": "2022-01-29T02:12:28.168Z"
   },
   {
    "duration": 5,
    "start_time": "2022-01-29T02:12:28.220Z"
   },
   {
    "duration": 34,
    "start_time": "2022-01-29T02:12:28.227Z"
   },
   {
    "duration": 16,
    "start_time": "2022-01-29T02:12:28.263Z"
   },
   {
    "duration": 573,
    "start_time": "2022-02-06T18:55:30.537Z"
   },
   {
    "duration": 134,
    "start_time": "2022-02-06T18:55:31.112Z"
   },
   {
    "duration": 17,
    "start_time": "2022-02-06T18:55:31.248Z"
   },
   {
    "duration": 25,
    "start_time": "2022-02-06T18:55:31.267Z"
   },
   {
    "duration": 4,
    "start_time": "2022-02-06T18:55:31.312Z"
   },
   {
    "duration": 23,
    "start_time": "2022-02-06T18:55:31.318Z"
   },
   {
    "duration": 28,
    "start_time": "2022-02-06T18:55:31.343Z"
   },
   {
    "duration": 41,
    "start_time": "2022-02-06T18:55:31.372Z"
   },
   {
    "duration": 214,
    "start_time": "2022-02-06T18:55:31.415Z"
   },
   {
    "duration": 21,
    "start_time": "2022-02-06T18:55:31.631Z"
   },
   {
    "duration": 63,
    "start_time": "2022-02-06T18:55:31.654Z"
   },
   {
    "duration": 62,
    "start_time": "2022-02-06T18:55:31.719Z"
   },
   {
    "duration": 66,
    "start_time": "2022-02-06T18:55:31.783Z"
   },
   {
    "duration": 42,
    "start_time": "2022-02-06T18:55:31.851Z"
   },
   {
    "duration": 17,
    "start_time": "2022-02-06T18:55:31.895Z"
   },
   {
    "duration": 16,
    "start_time": "2022-02-06T18:55:31.914Z"
   },
   {
    "duration": 40,
    "start_time": "2022-02-06T18:55:31.932Z"
   },
   {
    "duration": 10,
    "start_time": "2022-02-06T18:55:31.974Z"
   },
   {
    "duration": 10,
    "start_time": "2022-02-06T18:55:32.012Z"
   },
   {
    "duration": 3,
    "start_time": "2022-02-06T18:55:32.023Z"
   },
   {
    "duration": 20,
    "start_time": "2022-02-06T18:55:32.028Z"
   },
   {
    "duration": 13,
    "start_time": "2022-02-06T18:55:32.049Z"
   },
   {
    "duration": 14,
    "start_time": "2022-02-06T18:55:32.063Z"
   },
   {
    "duration": 41,
    "start_time": "2022-02-06T18:55:32.079Z"
   },
   {
    "duration": 14,
    "start_time": "2022-02-06T18:55:32.122Z"
   },
   {
    "duration": 12,
    "start_time": "2022-02-06T18:55:32.138Z"
   },
   {
    "duration": 8,
    "start_time": "2022-02-06T18:55:32.153Z"
   },
   {
    "duration": 14,
    "start_time": "2022-02-06T18:55:32.163Z"
   },
   {
    "duration": 38,
    "start_time": "2022-02-06T18:55:32.178Z"
   },
   {
    "duration": 3,
    "start_time": "2022-02-06T18:55:32.218Z"
   },
   {
    "duration": 24,
    "start_time": "2022-02-06T18:55:32.223Z"
   },
   {
    "duration": 13,
    "start_time": "2022-02-06T18:55:32.248Z"
   },
   {
    "duration": 18,
    "start_time": "2022-02-06T18:55:32.263Z"
   },
   {
    "duration": 41,
    "start_time": "2022-02-06T18:55:32.283Z"
   },
   {
    "duration": 22,
    "start_time": "2022-02-06T18:55:32.326Z"
   },
   {
    "duration": 4,
    "start_time": "2022-02-06T18:55:32.350Z"
   },
   {
    "duration": 16,
    "start_time": "2022-02-06T18:55:32.355Z"
   },
   {
    "duration": 4,
    "start_time": "2022-02-06T18:55:32.373Z"
   },
   {
    "duration": 308,
    "start_time": "2022-02-07T05:36:52.030Z"
   },
   {
    "duration": 752,
    "start_time": "2022-02-07T05:36:55.599Z"
   },
   {
    "duration": 182,
    "start_time": "2022-02-07T05:36:58.975Z"
   },
   {
    "duration": 34,
    "start_time": "2022-02-07T05:37:03.006Z"
   },
   {
    "duration": 10,
    "start_time": "2022-02-07T05:42:18.693Z"
   },
   {
    "duration": 16,
    "start_time": "2022-02-07T05:42:30.750Z"
   },
   {
    "duration": 10,
    "start_time": "2022-02-07T05:42:41.270Z"
   },
   {
    "duration": 15,
    "start_time": "2022-02-07T05:42:48.975Z"
   },
   {
    "duration": 5,
    "start_time": "2022-02-07T05:48:40.442Z"
   },
   {
    "duration": 178,
    "start_time": "2022-02-07T05:52:37.972Z"
   },
   {
    "duration": 16,
    "start_time": "2022-02-07T05:52:39.534Z"
   },
   {
    "duration": 33,
    "start_time": "2022-02-07T05:52:41.469Z"
   },
   {
    "duration": 5,
    "start_time": "2022-02-07T05:52:52.501Z"
   },
   {
    "duration": 26,
    "start_time": "2022-02-07T05:52:55.100Z"
   },
   {
    "duration": 35,
    "start_time": "2022-02-07T05:52:56.124Z"
   },
   {
    "duration": 31,
    "start_time": "2022-02-07T05:52:57.604Z"
   },
   {
    "duration": 284,
    "start_time": "2022-02-07T05:52:58.917Z"
   },
   {
    "duration": 31,
    "start_time": "2022-02-07T05:53:01.732Z"
   },
   {
    "duration": 82,
    "start_time": "2022-02-07T05:53:03.429Z"
   },
   {
    "duration": 87,
    "start_time": "2022-02-07T05:53:04.492Z"
   },
   {
    "duration": 74,
    "start_time": "2022-02-07T05:53:05.597Z"
   },
   {
    "duration": 59,
    "start_time": "2022-02-07T05:53:07.276Z"
   },
   {
    "duration": 4,
    "start_time": "2022-02-07T05:53:09.300Z"
   },
   {
    "duration": 53,
    "start_time": "2022-02-07T05:53:10.580Z"
   },
   {
    "duration": 54,
    "start_time": "2022-02-07T05:53:21.749Z"
   },
   {
    "duration": 58,
    "start_time": "2022-02-07T05:53:24.997Z"
   },
   {
    "duration": 21,
    "start_time": "2022-02-07T05:53:43.373Z"
   },
   {
    "duration": 62,
    "start_time": "2022-02-07T05:53:46.404Z"
   },
   {
    "duration": 20,
    "start_time": "2022-02-07T05:56:37.853Z"
   },
   {
    "duration": 74,
    "start_time": "2022-02-07T05:56:42.004Z"
   },
   {
    "duration": 777,
    "start_time": "2022-02-07T18:23:40.916Z"
   },
   {
    "duration": 185,
    "start_time": "2022-02-07T18:23:41.696Z"
   },
   {
    "duration": 27,
    "start_time": "2022-02-07T18:23:41.884Z"
   },
   {
    "duration": 15,
    "start_time": "2022-02-07T18:23:41.914Z"
   },
   {
    "duration": 44,
    "start_time": "2022-02-07T18:23:41.931Z"
   },
   {
    "duration": 24,
    "start_time": "2022-02-07T18:23:41.977Z"
   },
   {
    "duration": 17,
    "start_time": "2022-02-07T18:23:42.005Z"
   },
   {
    "duration": 33,
    "start_time": "2022-02-07T18:23:42.024Z"
   },
   {
    "duration": 40,
    "start_time": "2022-02-07T18:23:42.061Z"
   },
   {
    "duration": 7,
    "start_time": "2022-02-07T18:23:42.104Z"
   },
   {
    "duration": 32,
    "start_time": "2022-02-07T18:23:42.114Z"
   },
   {
    "duration": 50,
    "start_time": "2022-02-07T18:23:42.149Z"
   },
   {
    "duration": 34,
    "start_time": "2022-02-07T18:23:42.202Z"
   },
   {
    "duration": 345,
    "start_time": "2022-02-07T18:23:42.239Z"
   },
   {
    "duration": 30,
    "start_time": "2022-02-07T18:23:42.586Z"
   },
   {
    "duration": 98,
    "start_time": "2022-02-07T18:23:42.618Z"
   },
   {
    "duration": 104,
    "start_time": "2022-02-07T18:23:42.718Z"
   },
   {
    "duration": 82,
    "start_time": "2022-02-07T18:23:42.824Z"
   },
   {
    "duration": 68,
    "start_time": "2022-02-07T18:23:42.909Z"
   },
   {
    "duration": 4,
    "start_time": "2022-02-07T18:23:42.979Z"
   },
   {
    "duration": 24,
    "start_time": "2022-02-07T18:23:42.985Z"
   },
   {
    "duration": 82,
    "start_time": "2022-02-07T18:23:43.012Z"
   },
   {
    "duration": 13,
    "start_time": "2022-02-07T18:23:43.097Z"
   },
   {
    "duration": 12,
    "start_time": "2022-02-07T18:23:43.112Z"
   },
   {
    "duration": 5,
    "start_time": "2022-02-07T18:23:43.126Z"
   },
   {
    "duration": 23,
    "start_time": "2022-02-07T18:23:43.170Z"
   },
   {
    "duration": 18,
    "start_time": "2022-02-07T18:23:43.198Z"
   },
   {
    "duration": 50,
    "start_time": "2022-02-07T18:23:43.219Z"
   },
   {
    "duration": 18,
    "start_time": "2022-02-07T18:23:43.272Z"
   },
   {
    "duration": 21,
    "start_time": "2022-02-07T18:23:43.293Z"
   },
   {
    "duration": 18,
    "start_time": "2022-02-07T18:23:43.317Z"
   },
   {
    "duration": 12,
    "start_time": "2022-02-07T18:23:43.369Z"
   },
   {
    "duration": 18,
    "start_time": "2022-02-07T18:23:43.383Z"
   },
   {
    "duration": 12,
    "start_time": "2022-02-07T18:23:43.403Z"
   },
   {
    "duration": 6,
    "start_time": "2022-02-07T18:23:43.417Z"
   },
   {
    "duration": 67,
    "start_time": "2022-02-07T18:23:43.425Z"
   },
   {
    "duration": 20,
    "start_time": "2022-02-07T18:23:43.495Z"
   },
   {
    "duration": 53,
    "start_time": "2022-02-07T18:23:43.518Z"
   },
   {
    "duration": 18,
    "start_time": "2022-02-07T18:23:43.573Z"
   },
   {
    "duration": 31,
    "start_time": "2022-02-07T18:23:43.593Z"
   },
   {
    "duration": 6,
    "start_time": "2022-02-07T18:23:43.626Z"
   },
   {
    "duration": 55,
    "start_time": "2022-02-07T18:23:43.635Z"
   },
   {
    "duration": 9,
    "start_time": "2022-02-07T18:23:43.692Z"
   }
  ],
  "colab": {
   "collapsed_sections": [
    "E0vqbgi9ay0H",
    "VUC88oWjTJw2"
   ],
   "name": "yandex_music_project_2021.2.ipynb",
   "provenance": []
  },
  "kernelspec": {
   "display_name": "Python 3 (ipykernel)",
   "language": "python",
   "name": "python3"
  },
  "language_info": {
   "codemirror_mode": {
    "name": "ipython",
    "version": 3
   },
   "file_extension": ".py",
   "mimetype": "text/x-python",
   "name": "python",
   "nbconvert_exporter": "python",
   "pygments_lexer": "ipython3",
   "version": "3.9.5"
  },
  "toc": {
   "base_numbering": 1,
   "nav_menu": {},
   "number_sections": true,
   "sideBar": true,
   "skip_h1_title": true,
   "title_cell": "Table of Contents",
   "title_sidebar": "Contents",
   "toc_cell": false,
   "toc_position": {
    "height": "calc(100% - 180px)",
    "left": "10px",
    "top": "150px",
    "width": "217px"
   },
   "toc_section_display": true,
   "toc_window_display": true
  }
 },
 "nbformat": 4,
 "nbformat_minor": 1
}
